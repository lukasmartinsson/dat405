{
  "nbformat": 4,
  "nbformat_minor": 2,
  "metadata": {
    "colab": {
      "name": "Assignment4",
      "provenance": [],
      "collapsed_sections": []
    },
    "kernelspec": {
      "name": "python3",
      "display_name": "Python 3.8.11 64-bit ('base': conda)"
    },
    "language_info": {
      "name": "python",
      "version": "3.8.11",
      "mimetype": "text/x-python",
      "codemirror_mode": {
        "name": "ipython",
        "version": 3
      },
      "pygments_lexer": "ipython3",
      "nbconvert_exporter": "python",
      "file_extension": ".py"
    },
    "interpreter": {
      "hash": "ad4bdff1320f12d81f077364a0ed0b61c72bf243b701352d6f35920f5f96452c"
    }
  },
  "cells": [
    {
      "cell_type": "markdown",
      "source": [
        "# DAT405 Introduction to Data Science and AI \n",
        "## 2021-2022, Reading Period 1\n",
        "## Assignment 4: Spam classification using Naïve Bayes \n",
        "There will be an overall grade for this assignment. To get a pass grade (grade 5), you need to pass items 1-3 below. To receive higher grades, finish items 4 and 5 as well. \n",
        "\n",
        "The exercise takes place in a notebook environment where you can chose to use Jupyter or Google Colabs. We recommend you use Google Colabs as it will facilitate remote group-work and makes the assignment less technical. \n",
        "Hints:\n",
        "You can execute certain linux shell commands by prefixing the command with `!`. You can insert Markdown cells and code cells. The first you can use for documenting and explaining your results the second you can use writing code snippets that execute the tasks required.  \n",
        "\n",
        "In this assignment you will implement a Naïve Bayes classifier in Python that will classify emails into spam and non-spam (“ham”) classes.  Your program should be able to train on a given set of spam and “ham” datasets. \n",
        "You will work with the datasets available at https://spamassassin.apache.org/old/publiccorpus/. There are three types of files in this location: \n",
        "-\teasy-ham: non-spam messages typically quite easy to differentiate from spam messages. \n",
        "-\thard-ham: non-spam messages more difficult to differentiate \n",
        "-\tspam: spam messages \n",
        "\n",
        "**Execute the cell below to download and extract the data into the environment of the notebook -- it will take a few seconds.** If you chose to use Jupyter notebooks you will have to run the commands in the cell below on your local computer, with Windows you can use 7zip (https://www.7-zip.org/download.html) to decompress the data.\n",
        "\n"
      ],
      "metadata": {
        "id": "-sTsDfIVKsmL"
      }
    },
    {
      "cell_type": "code",
      "execution_count": 7,
      "source": [
        "#Download and extract data\n",
        "!mkdir datasets\n",
        "%cd datasets\n",
        "!wget https://spamassassin.apache.org/old/publiccorpus/20021010_easy_ham.tar.bz2\n",
        "!wget https://spamassassin.apache.org/old/publiccorpus/20021010_hard_ham.tar.bz2 \n",
        "!wget https://spamassassin.apache.org/old/publiccorpus/20021010_spam.tar.bz2 \n",
        "!tar -xjf 20021010_easy_ham.tar.bz2 \n",
        "!tar -xjf 20021010_hard_ham.tar.bz2\n",
        "!tar -xjf 20021010_spam.tar.bz2\n",
        "%cd .."
      ],
      "outputs": [
        {
          "output_type": "stream",
          "name": "stdout",
          "text": [
            "mkdir: cannot create directory ‘datasets’: File exists\n",
            "/home/islandengineer/Dev/Chalmers/dat405/assignment_4/datasets\n",
            "--2021-09-22 15:54:21--  https://spamassassin.apache.org/old/publiccorpus/20021010_easy_ham.tar.bz2\n",
            "Resolving spamassassin.apache.org (spamassassin.apache.org)... 151.101.2.132, 2a04:4e42::644\n",
            "Connecting to spamassassin.apache.org (spamassassin.apache.org)|151.101.2.132|:443... connected.\n",
            "HTTP request sent, awaiting response... 200 OK\n",
            "Length: 1677144 (1.6M) [application/x-bzip2]\n",
            "Saving to: ‘20021010_easy_ham.tar.bz2’\n",
            "\n",
            "20021010_easy_ham.t 100%[===================>]   1.60M  3.63MB/s    in 0.4s    \n",
            "\n",
            "2021-09-22 15:54:21 (3.63 MB/s) - ‘20021010_easy_ham.tar.bz2’ saved [1677144/1677144]\n",
            "\n",
            "--2021-09-22 15:54:21--  https://spamassassin.apache.org/old/publiccorpus/20021010_hard_ham.tar.bz2\n",
            "Resolving spamassassin.apache.org (spamassassin.apache.org)... 151.101.2.132, 2a04:4e42::644\n",
            "Connecting to spamassassin.apache.org (spamassassin.apache.org)|151.101.2.132|:443... connected.\n",
            "HTTP request sent, awaiting response... 200 OK\n",
            "Length: 1021126 (997K) [application/x-bzip2]\n",
            "Saving to: ‘20021010_hard_ham.tar.bz2’\n",
            "\n",
            "20021010_hard_ham.t 100%[===================>] 997.19K  3.37MB/s    in 0.3s    \n",
            "\n",
            "2021-09-22 15:54:22 (3.37 MB/s) - ‘20021010_hard_ham.tar.bz2’ saved [1021126/1021126]\n",
            "\n",
            "--2021-09-22 15:54:22--  https://spamassassin.apache.org/old/publiccorpus/20021010_spam.tar.bz2\n",
            "Resolving spamassassin.apache.org (spamassassin.apache.org)... 151.101.2.132, 2a04:4e42::644\n",
            "Connecting to spamassassin.apache.org (spamassassin.apache.org)|151.101.2.132|:443... connected.\n",
            "HTTP request sent, awaiting response... 200 OK\n",
            "Length: 1192582 (1.1M) [application/x-bzip2]\n",
            "Saving to: ‘20021010_spam.tar.bz2’\n",
            "\n",
            "20021010_spam.tar.b 100%[===================>]   1.14M  3.86MB/s    in 0.3s    \n",
            "\n",
            "2021-09-22 15:54:22 (3.86 MB/s) - ‘20021010_spam.tar.bz2’ saved [1192582/1192582]\n",
            "\n",
            "/home/islandengineer/Dev/Chalmers/dat405/assignment_4\n"
          ]
        }
      ],
      "metadata": {
        "id": "Wa37fBwRF-xe"
      }
    },
    {
      "cell_type": "markdown",
      "source": [
        "*The* data is now in the three folders `easy_ham`, `hard_ham`, and `spam`."
      ],
      "metadata": {
        "id": "tdH1XTepLjZ3"
      }
    },
    {
      "cell_type": "code",
      "execution_count": 8,
      "source": [
        "!ls -lah"
      ],
      "outputs": [
        {
          "output_type": "stream",
          "name": "stdout",
          "text": [
            "total 372K\n",
            "drwxr-xr-x 3 islandengineer islandengineer 4.0K Sep 22 12:14 .\n",
            "drwxr-xr-x 7 islandengineer islandengineer 4.0K Sep 22 11:34 ..\n",
            "-rw-r--r-- 1 islandengineer islandengineer  19K Sep 22 15:53 DAT405_Assignment4.ipynb\n",
            "-rw-r--r-- 1 islandengineer islandengineer 337K Sep 22 11:33 DAT405_Assignment4.pdf\n",
            "drwxr-xr-x 5 islandengineer islandengineer 4.0K Sep 22 15:54 datasets\n"
          ]
        }
      ],
      "metadata": {
        "id": "A53Gw00fBLG2"
      }
    },
    {
      "cell_type": "markdown",
      "source": [
        "### 1. Preprocessing: \n",
        "1.\tNote that the email files contain a lot of extra information, besides the actual message. Ignore that for now and run on the entire text. Further down (in the higher-grade part), you will be asked to filter out the headers and footers. "
      ],
      "metadata": {
        "id": "DGlWPVnSNzT7"
      }
    },
    {
      "cell_type": "code",
      "execution_count": 9,
      "source": [
        "from sklearn.model_selection import train_test_split\r\n",
        "import pandas as pd\r\n",
        "import os"
      ],
      "outputs": [],
      "metadata": {}
    },
    {
      "cell_type": "code",
      "execution_count": 10,
      "source": [
        "def extract_emails(directories, class_name):\r\n",
        "  rows = []\r\n",
        "  for directory in directories:\r\n",
        "    for file in os.listdir(directory):\r\n",
        "      with open(os.path.join(directory,file), encoding='latin-1') as f:\r\n",
        "        if f is not None:\r\n",
        "          rows.append({'email': file, 'content': f.read(), 'class': class_name})\r\n",
        "  return pd.DataFrame(rows)\r\n",
        "\r\n",
        "# extract emails and add class information\r\n",
        "df_ham = extract_emails(['./datasets/easy_ham', 'datasets/hard_ham'], 'ham')\r\n",
        "df_spam = extract_emails(['./datasets/spam'], 'spam')\r\n",
        "\r\n",
        "# join the two dataframes\r\n",
        "df_emails = pd.concat([df_ham,df_spam])\r\n",
        "\r\n",
        "df_emails.sample(5)"
      ],
      "outputs": [
        {
          "output_type": "execute_result",
          "data": {
            "text/html": [
              "<div>\n",
              "<style scoped>\n",
              "    .dataframe tbody tr th:only-of-type {\n",
              "        vertical-align: middle;\n",
              "    }\n",
              "\n",
              "    .dataframe tbody tr th {\n",
              "        vertical-align: top;\n",
              "    }\n",
              "\n",
              "    .dataframe thead th {\n",
              "        text-align: right;\n",
              "    }\n",
              "</style>\n",
              "<table border=\"1\" class=\"dataframe\">\n",
              "  <thead>\n",
              "    <tr style=\"text-align: right;\">\n",
              "      <th></th>\n",
              "      <th>email</th>\n",
              "      <th>content</th>\n",
              "      <th>class</th>\n",
              "    </tr>\n",
              "  </thead>\n",
              "  <tbody>\n",
              "    <tr>\n",
              "      <th>1104</th>\n",
              "      <td>1617.75b61ae83ecff7b45a80cac6cc8c9192</td>\n",
              "      <td>From spamassassin-devel-admin@lists.sourceforg...</td>\n",
              "      <td>ham</td>\n",
              "    </tr>\n",
              "    <tr>\n",
              "      <th>986</th>\n",
              "      <td>1233.f19ee9e6ffb986dd0dd2691401e237ae</td>\n",
              "      <td>From exmh-workers-admin@redhat.com  Wed Oct  2...</td>\n",
              "      <td>ham</td>\n",
              "    </tr>\n",
              "    <tr>\n",
              "      <th>1729</th>\n",
              "      <td>1023.909ebf9dc802a8f97b0d722ad443dd42</td>\n",
              "      <td>From fork-admin@xent.com  Thu Oct 10 12:34:51 ...</td>\n",
              "      <td>ham</td>\n",
              "    </tr>\n",
              "    <tr>\n",
              "      <th>1333</th>\n",
              "      <td>2537.2769f2836293c4c9105e6a89fc14fd8e</td>\n",
              "      <td>From rssfeeds@jmason.org  Thu Oct 10 12:32:18 ...</td>\n",
              "      <td>ham</td>\n",
              "    </tr>\n",
              "    <tr>\n",
              "      <th>56</th>\n",
              "      <td>0255.98492176173fd6951086bb7af9e0008a</td>\n",
              "      <td>From ilug-admin@linux.ie  Wed Aug 28 10:48:25 ...</td>\n",
              "      <td>ham</td>\n",
              "    </tr>\n",
              "  </tbody>\n",
              "</table>\n",
              "</div>"
            ],
            "text/plain": [
              "                                      email  \\\n",
              "1104  1617.75b61ae83ecff7b45a80cac6cc8c9192   \n",
              "986   1233.f19ee9e6ffb986dd0dd2691401e237ae   \n",
              "1729  1023.909ebf9dc802a8f97b0d722ad443dd42   \n",
              "1333  2537.2769f2836293c4c9105e6a89fc14fd8e   \n",
              "56    0255.98492176173fd6951086bb7af9e0008a   \n",
              "\n",
              "                                                content class  \n",
              "1104  From spamassassin-devel-admin@lists.sourceforg...   ham  \n",
              "986   From exmh-workers-admin@redhat.com  Wed Oct  2...   ham  \n",
              "1729  From fork-admin@xent.com  Thu Oct 10 12:34:51 ...   ham  \n",
              "1333  From rssfeeds@jmason.org  Thu Oct 10 12:32:18 ...   ham  \n",
              "56    From ilug-admin@linux.ie  Wed Aug 28 10:48:25 ...   ham  "
            ]
          },
          "metadata": {},
          "execution_count": 10
        }
      ],
      "metadata": {}
    },
    {
      "cell_type": "markdown",
      "source": [
        "2.\tWe don’t want to train and test on the same data. Split the spam and the ham datasets in a training set and a test set. (`hamtrain`, `spamtrain`, `hamtest`, and `spamtest`)"
      ],
      "metadata": {}
    },
    {
      "cell_type": "code",
      "execution_count": 11,
      "source": [
        "# pre-processing code here\r\n",
        "X_train, X_test, y_train, y_test = train_test_split(df_emails['content'], df_emails['class'], train_size=0.8, random_state=0, shuffle=True)\r\n",
        "\r\n",
        "print('all emails:', df_emails.shape)\r\n",
        "print('X_train:', X_train.shape)\r\n",
        "print('X_test:', X_test.shape)\r\n",
        "print('y_train:', y_train.shape)\r\n",
        "print('y_test:', y_test.shape)"
      ],
      "outputs": [
        {
          "output_type": "stream",
          "name": "stdout",
          "text": [
            "all emails: (3302, 3)\n",
            "X_train: (2641,)\n",
            "X_test: (661,)\n",
            "y_train: (2641,)\n",
            "y_test: (661,)\n"
          ]
        }
      ],
      "metadata": {
        "id": "J2sllUWXKblD"
      }
    },
    {
      "cell_type": "markdown",
      "source": [
        "### 2. Write a Python program that: \r\n",
        "1.\tUses four datasets (`hamtrain`, `spamtrain`, `hamtest`, and `spamtest`) \r\n",
        "2.\tTrains a Naïve Bayes classifier (e.g. Sklearn) on `hamtrain` and `spamtrain`, that classifies the test sets and reports True Positive and False Negative rates on the `hamtest` and `spamtest` datasets. You can use `CountVectorizer` to transform the email texts into vectors. Please note that there are different types of Naïve Bayes Classifier in SKlearn ([Documentation here](https://scikit-learn.org/stable/modules/naive_bayes.html)). Test two of these classifiers that are well suited for this problem\r\n",
        "- Multinomial Naive Bayes  \r\n",
        "- Bernoulli Naive Bayes. \r\n",
        "\r\n",
        "Please inspect the documentation to ensure input to the classifiers is appropriate. Discuss the differences between these two classifiers. \r\n",
        "\r\n",
        "\r\n",
        "\r\n"
      ],
      "metadata": {
        "id": "mnbrbI0_OKCF"
      }
    },
    {
      "cell_type": "markdown",
      "source": [
        "#### Multinomial Naive Bayes"
      ],
      "metadata": {}
    },
    {
      "cell_type": "code",
      "execution_count": 26,
      "source": [
        "from sklearn.naive_bayes import MultinomialNB\r\n",
        "from sklearn.feature_extraction.text import CountVectorizer\r\n",
        "\r\n",
        "# instantiate a Count Vectorizer and fit for training data\r\n",
        "cv = CountVectorizer()\r\n",
        "X_train_vector = cv.fit_transform(X_train)\r\n",
        "X_test_vector = cv.transform(X_test)\r\n",
        "\r\n",
        "# fit Multinomial Naive Bayes model using training data\r\n",
        "multinomial_naive_bayes = MultinomialNB().fit(X_train_vector, y_train)\r\n",
        "\r\n",
        "# make predictions on the test data vector\r\n",
        "y_pred = multinomial_naive_bayes.predict(X_test_vector)\r\n",
        "\r\n",
        "y_pred[:10]"
      ],
      "outputs": [
        {
          "output_type": "execute_result",
          "data": {
            "text/plain": [
              "array(['ham', 'ham', 'ham', 'ham', 'spam', 'ham', 'ham', 'ham', 'ham',\n",
              "       'ham'], dtype='<U4')"
            ]
          },
          "metadata": {},
          "execution_count": 26
        }
      ],
      "metadata": {
        "id": "MJERHSCcGNaW"
      }
    },
    {
      "cell_type": "markdown",
      "source": [
        "#### Bernoulli Naive Bayes"
      ],
      "metadata": {}
    },
    {
      "cell_type": "markdown",
      "source": [
        "`[insert discussion]`"
      ],
      "metadata": {
        "id": "nI1bPDCvQxen"
      }
    },
    {
      "cell_type": "markdown",
      "source": [
        "### 3.Run your program on \n",
        "-\tSpam versus easy-ham \n",
        "-\tSpam versus hard-ham."
      ],
      "metadata": {
        "id": "wDFS3uFFUcS7"
      }
    },
    {
      "cell_type": "code",
      "execution_count": null,
      "source": [
        "#Code to report results here"
      ],
      "outputs": [],
      "metadata": {
        "id": "gool_zb8Qzzy"
      }
    },
    {
      "cell_type": "markdown",
      "source": [
        "###4.\tTo avoid classification based on common and uninformative words it is common to filter these out. \n",
        "\n",
        "**a.** Argue why this may be useful. Try finding the words that are too common/uncommon in the dataset. \n",
        "\n",
        "**b.** Use the parameters in Sklearn’s `CountVectorizer` to filter out these words. Update the program from point 3 and run it on your data and report your results.\n",
        "\n",
        "You have two options to do this in Sklearn: either using the words found in part (a) or letting Sklearn do it for you. Argue for your decision-making.\n"
      ],
      "metadata": {
        "id": "TkfQWBB4UhYd"
      }
    },
    {
      "cell_type": "code",
      "execution_count": null,
      "source": [],
      "outputs": [],
      "metadata": {
        "id": "qt7ELzEqUfas"
      }
    },
    {
      "cell_type": "markdown",
      "source": [
        "###5. Eeking out further performance\n",
        "Filter out the headers and footers of the emails before you run on them. The format may vary somewhat between emails, which can make this a bit tricky, so perfect filtering is not required. Run your program again and answer the following questions: \n",
        "-\tDoes the result improve from 3 and 4? \n",
        "- The split of the data set into a training set and a test set can lead to very skewed results. Why is this, and do you have suggestions on remedies? \n",
        "- What do you expect would happen if your training set were mostly spam messages while your test set were mostly ham messages? \n",
        "\n",
        "Re-estimate your classifier using `fit_prior` parameter set to `false`, and answer the following questions:\n",
        "- What does this parameter mean?\n",
        "- How does this alter the predictions? Discuss why or why not."
      ],
      "metadata": {
        "id": "zcyVfOZFU4F_"
      }
    },
    {
      "cell_type": "code",
      "execution_count": null,
      "source": [],
      "outputs": [],
      "metadata": {
        "id": "s_nyGug9U4f3"
      }
    },
    {
      "cell_type": "markdown",
      "source": [
        "### What to report and how to hand in.\n",
        "\n",
        "- You will need to clearly report all results in the notebook in a clear and appropriate way, either using plots or code output (f.x. \"print statements\"). \n",
        "- The notebook must be reproducible, that means, we must be able to use the `Run all` function from the `Runtime` menu and reproduce all your results. **Please check this before handing in.** \n",
        "- Save the notebook and share a link to the notebook (Press share in upper left corner, and use `Get link` option. **Please make sure to allow all with the link to open and edit.**\n",
        "- Edits made after submission deadline will be ignored, graders will recover the last saved version before deadline from the revisions history.\n",
        "- **Please make sure all cells are executed and all the output is clearly readable/visible to anybody opening the notebook.**"
      ],
      "metadata": {
        "id": "ND6FKoexVAhW"
      }
    },
    {
      "cell_type": "code",
      "execution_count": null,
      "source": [],
      "outputs": [],
      "metadata": {
        "id": "8bI3z_spVacz"
      }
    }
  ]
}