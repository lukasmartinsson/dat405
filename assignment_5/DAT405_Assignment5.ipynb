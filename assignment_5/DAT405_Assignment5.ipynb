{
  "nbformat": 4,
  "nbformat_minor": 2,
  "metadata": {
    "kernelspec": {
      "name": "python3",
      "display_name": "Python 3.8.11 64-bit ('base': conda)"
    },
    "language_info": {
      "codemirror_mode": {
        "name": "ipython",
        "version": 3
      },
      "file_extension": ".py",
      "mimetype": "text/x-python",
      "name": "python",
      "nbconvert_exporter": "python",
      "pygments_lexer": "ipython3",
      "version": "3.8.11"
    },
    "colab": {
      "name": "Assignment5_Reinforcement_Learning.ipynb",
      "provenance": [],
      "collapsed_sections": []
    },
    "interpreter": {
      "hash": "ad4bdff1320f12d81f077364a0ed0b61c72bf243b701352d6f35920f5f96452c"
    }
  },
  "cells": [
    {
      "cell_type": "markdown",
      "source": [
        "# Assignment 5: Reinforcement learning <br/>\r\n",
        "**DAT405 Introduction to Data Science and AI, 2021-2022, Study Period 1** <br/>\r\n",
        "**Due Date:**  Oct 4, 23:59<br/>\r\n",
        "**Authors:** Sidner Magnéli, Lukas Martinsson <br/>\r\n",
        "**Hours:** way to many :) \r\n",
        "\r\n",
        "---\r\n",
        "\r\n",
        "\r\n",
        "**What to submit**\r\n",
        "*   **The entire assignment should be submitted through the notebook. No separate file will be accepted.** You can submit either the notebook itself, or a public link to a Google Colab notebook<br/>\r\n",
        "\r\n",
        "*In the notebook:*\r\n",
        "*\tState your names and how many hours each person spent on the assignment.\r\n",
        "*\tThe solutions and answers to the theoretical and practical problems, including LaTeX math-mode equations, plots and tables etc.\r\n",
        "*\tAll plots/results should be visible such that the notebook does not have to be run. But the code in the notebook should reproduce the plots/results if we choose to do so.<br/>\r\n",
        "\r\n",
        "*Before submitting:*\r\n",
        "*   Make sure that your code can run on another computer. That all plots can show on another computer including all your writing. It is good to check if your code can run here: https://colab.research.google.com."
      ],
      "metadata": {
        "id": "O73TxqjJH7e7"
      }
    },
    {
      "cell_type": "markdown",
      "source": [
        "**Self-check**<br/>\r\n",
        "Is all the required information included? Have you answered all questions to the best of your ability? Anything else you can easily check? (details, terminology, arguments, clearly stated answers etc.?) Does your notebook run and can reproduce the results, plots and tables?\r\n",
        "\r\n",
        "**Grading**<br/>\r\n",
        "Grading will be based on a qualitative assessment of each assignment. It is important to:\r\n",
        "*\tPresent clear arguments\r\n",
        "*\tPresent the results in a pedagogical way\r\n",
        "*\tShow understanding of the topics (e.g, write a pseudocode) \r\n",
        "*\tGive correct solutions\r\n",
        "*\tMake sure that the code is well commented \r\n",
        "\r\n",
        "**Again, as mentioned in general guidelines, all code should be written here. And this same ipython notebook file (Assignment5_Reinforcement_Learning.ipynb) should be submitted with answers and code written in it. No separate file will be accepted.** \r\n"
      ],
      "metadata": {
        "id": "jDuY3qwbH7e7"
      }
    },
    {
      "cell_type": "markdown",
      "source": [
        "## Primer"
      ],
      "metadata": {
        "id": "m_6obY12H7e7"
      }
    },
    {
      "cell_type": "markdown",
      "source": [
        "\r\n",
        "### Decision Making\r\n",
        "The problem of **decision making under uncertainty** (commonly known as **reinforcement learning**) can be broken down into\r\n",
        "two parts. First, how do we learn about the world? This involves both the\r\n",
        "problem of modeling our initial uncertainty about the world, and that of drawing conclusions from evidence and our initial belief. Secondly, given what we\r\n",
        "currently know about the world, how should we decide what to do, taking into\r\n",
        "account future events and observations that may change our conclusions?\r\n",
        "Typically, this will involve creating long-term plans covering possible future\r\n",
        "eventualities. That is, when planning under uncertainty, we also need to take\r\n",
        "into account what possible future knowledge could be generated when implementing our plans. Intuitively, executing plans which involve trying out new\r\n",
        "things should give more information, but it is hard to tell whether this information will be beneficial. The choice between doing something which is already\r\n",
        "known to produce good results and experiment with something new is known\r\n",
        "as the **exploration-exploitation dilemma**.\r\n",
        "\r\n",
        "### The exploration-exploitation trade-off\r\n",
        "\r\n",
        "Consider the problem of selecting a restaurant to go to during a vacation. Lets say the\r\n",
        "best restaurant you have found so far was **Les Epinards**. The food there is\r\n",
        "usually to your taste and satisfactory. However, a well-known recommendations\r\n",
        "website suggests that **King’s Arm** is really good! It is tempting to try it out. But\r\n",
        "there is a risk involved. It may turn out to be much worse than **Les Epinards**,\r\n",
        "in which case you will regret going there. On the other hand, it could also be\r\n",
        "much better. What should you do?\r\n",
        "It all depends on how much information you have about either restaurant,\r\n",
        "and how many more days you’ll stay in town. If this is your last day, then it’s\r\n",
        "probably a better idea to go to **Les Epinards**, unless you are expecting **King’s\r\n",
        "Arm** to be significantly better. However, if you are going to stay there longer,\r\n",
        "trying out **King’s Arm** is a good bet. If you are lucky, you will be getting much\r\n",
        "better food for the remaining time, while otherwise you will have missed only\r\n",
        "one good meal out of many, making the potential risk quite small."
      ],
      "metadata": {}
    },
    {
      "cell_type": "markdown",
      "source": [
        "## Overview\r\n"
      ],
      "metadata": {
        "id": "fC-SVg0ZH7e7"
      }
    },
    {
      "cell_type": "markdown",
      "source": [
        "* To make things concrete, we will first focus on decision making under **no** uncertainity, i.e, given we have a world model, we can calculate the exact and optimal actions to take in it. We will first introduce **Markov Decision Process (MDP)** as the world model. Then we give one algorithm (out of many) to solve it.\r\n",
        "\r\n",
        "\r\n",
        "* Next, we will work through one type of reinforcement learning algorithm called Q-learning. Q-learning is an algorithm for making decisions under uncertainity, where uncertainity is over the possible world model (here MDP). It will find the optimal policy for the **unknown** MDP, assuming we do infinite exploration."
      ],
      "metadata": {}
    },
    {
      "cell_type": "markdown",
      "source": [
        "## Markov Decision Process"
      ],
      "metadata": {
        "id": "2zZ6HjxpH7e7"
      }
    },
    {
      "cell_type": "markdown",
      "source": [
        "Markov Decision Process (MDP) provides a mathematical framework for modeling sequential decision making under uncertainty. A MDP consists of five parts: the specific decision times, the state space of the environment/system, the available actions for the decision maker, the rewards, and the transition probabilities between the states.\r\n",
        "\r\n",
        "* Decision epochs: $t={1,2,...,T}$, where $T\\leq \\infty$\r\n",
        "* State space: $S=\\{s_1,s_2,...,s_N\\}$ of the underlying environment\r\n",
        "* Action space $A=\\{a_1,a_2,...,a_K\\}$ available to the decision maker at each decision epoch\r\n",
        "* Reward functions $R_t = r(a_t,s_t,s_{t+1})$ for the current state and action, and the resulting next state\r\n",
        "* Transition probabilities $p(s'|s,a)$ that taking action $a$ in state $s$ will lead to state $s'$\r\n",
        "\r\n",
        "At a given decision epoch $t$ and system state $s_t$, the decions maker, or *agent*, chooses an action $a_t$, the system jumps to a new state $s_{t+1}$ according to the transition probability $p(s_{t+1}|s_t,a_t)$, and the agent receives a reward $r_t(s_t,a_t,s_{t+1})$. This process is then repeated for a finite or infinite number of times.\r\n",
        "\r\n",
        "A *decision policy* is a function $\\pi: s \\rightarrow a$, that gives instructions on what action to choose in each state. A policy can either be *deterministic*, meaning that the action is given for each state, or *randomized* meaning that there is a probability distribution over the set of possible actions. Given a specific policy $\\pi$ we can then compute the the *expected total reward* when starting in a given state $s_1 \\in S$, which is also known as the *value* for that state, \r\n",
        "\r\n",
        "$$V^\\pi (s_1) = E\\left[ \\sum_{t=1}^{T} r(s_t,a_t,s_{t+1}) {\\Large |} s_1\\right] = \\sum_{t=1}^{T} r(s_t,a_t,s_{t+1}) p(s_{t+1} | a_t,s_t)$$ \r\n",
        "\r\n",
        "where $a_t = \\pi(s_t)$. To ensure convergence and to control how much credit to give to future rewards, it is common to introduce a *discount factor* $\\gamma \\in [0,1]$. For instance, if you think all future rewards should count equally, you would use $\\gamma = 1$, while if you only care less about future rewards you would use $\\gamma < 1$. The expected total *discounted* reward becomes\r\n",
        "\r\n",
        "$$V^\\pi( s_1) = \\sum_{t=1}^T \\gamma^{t-1} r(s_t,a_t, s_{t+1}) p(s_{t+1} | s_t, a_t) $$\r\n",
        "\r\n",
        "Now, to find the *optimal* policy we want to find the policy $\\pi^*$ that gives the highest total reward $V^{\\pi^*}(s)$ for all $s\\in S$. That is\r\n",
        "\r\n",
        "$$V^{\\pi^*}(s) \\geq V^\\pi(s), s\\in S$$\r\n",
        "\r\n",
        "The problem of finding the optimal policy is a _dynamic programming problem_. It turns out that a solution to the optimal policy problem in this context is the *Bellman equation*. The Bellman equation is given by\r\n",
        "\r\n",
        "$$V(s) = \\max_{a\\in A} \\left\\{\\sum_{s'\\in S} p(s'|s,a)( r(s,a,s') +\\gamma V(s')) \\right\\}$$\r\n",
        "\r\n",
        "Thus, it can be shown that if $\\pi$ is a policy such that $V^\\pi$ fulfills the Bellman equation, then $\\pi$ is an optimal policy.\r\n",
        "\r\n",
        "A real world example would be an inventory control system. Your states would be the amount of items you have in stock. Your actions would be the amount to order. The discrete time would be the days of the month. The reward would be the profit.  \r\n",
        "\r\n",
        "A major drawback of MDPs is called the \"Curse of Dimensionality\". MDPs unfortunately do not scale very well with increasing sets of states or actions.   \r\n"
      ],
      "metadata": {
        "id": "KurOZxYjH7e7"
      }
    },
    {
      "cell_type": "markdown",
      "source": [
        "## Question 1"
      ],
      "metadata": {
        "id": "0iUmTgzwH7e7"
      }
    },
    {
      "cell_type": "markdown",
      "source": [
        "In this first question we work with the deterministic MDP, no code is necessary in this part.\r\n",
        "\r\n",
        "Setup:\r\n",
        "\r\n",
        "* The agent starts in state **S**\r\n",
        "* The actions possible are **N** (north), **S** (south), **E** (east), and **W** west. \r\n",
        "* Note, that you cannot move outside the grid, thus all actions are not available in every box.\r\n",
        "* When reaching **F**, the game ends (absorbing state).\r\n",
        "* The numbers in the boxes represent the rewards you receive when moving into that box. \r\n",
        "* Assume no discount in this model: $\\gamma = 1$\r\n",
        "\r\n",
        "The reward of a state $r(s=(x, y))$ is given by the values on the grid:\r\n",
        "    \r\n",
        "| | | |\r\n",
        "|----------|----------|---------|\r\n",
        "|-1 |1|**F**|\r\n",
        "|0|-1|1|  \r\n",
        "|-1 |0|-1|  \r\n",
        "|**S**|-1|1|\r\n",
        "\r\n",
        "Let $(x,y)$ denote the position in the grid, such that $S=(0,0)$ and $F=(2,3)$."
      ],
      "metadata": {
        "id": "QWPya78-H7e7"
      }
    },
    {
      "cell_type": "markdown",
      "source": [
        "### **1a)** What is the optimal path of the MDP above? Is it unique? Submit the path as a single string of directions. E.g. `NESW` will make a circle."
      ],
      "metadata": {}
    },
    {
      "cell_type": "markdown",
      "source": [
        "The optimal path is the one which maximizes the total rewards. One candidate for this might be the path going `EENNN`, with a final reward of zero. One could modify this path and still get the same total reward by instead going `EENNWNE`. In this case, one could argue the prior is more effective as it requires fewer steps to achieve the same final reward."
      ],
      "metadata": {}
    },
    {
      "cell_type": "markdown",
      "source": [
        "### **1b)** What is the optimal policy (i.e. the optimal action in each state)?\r\n"
      ],
      "metadata": {}
    },
    {
      "cell_type": "markdown",
      "source": [
        "The list below shows the optimal actions of each state (matrix position) as follows `s`<sub>`i`</sub>` = (x,y)`. In the situation where multiple actions result in the same reward, the ones marked in bold marks the preferable action as these might lead to more value in the longer run.<br/> \r\n",
        "\r\n",
        "s<sub>1</sub> =  (0,0) ⇒ `N`, **`E`** <br/>\r\n",
        "s<sub>2</sub> =  (1,0) ⇒ `E`<br/>\r\n",
        "s<sub>3</sub> =  (2,0) ⇒ `W`, **`N`**<br/>\r\n",
        "s<sub>4</sub> =  (0,1) ⇒ `N`, `E`<br/>\r\n",
        "s<sub>5</sub> =  (1,1) ⇒ **`N`**, `S`, **`E`**, `W`<br/>\r\n",
        "s<sub>6</sub> =  (2,1) ⇒ **`N`**, `S`<br/>\r\n",
        "s<sub>7</sub> =  (0,2) ⇒ `N`, `E`<br/>\r\n",
        "s<sub>8</sub> =  (1,2) ⇒ `N`, `E`<br/>\r\n",
        "s<sub>9</sub> =  (2,2) ⇒ `N`<br/>\r\n",
        "s<sub>10</sub> = (0,3) ⇒ `E`<br/>\r\n",
        "s<sub>10</sub> = (1,3) ⇒ `E`<br/>\r\n",
        "s<sub>12</sub> = (2,3) = Absorbing state ⇒ no action"
      ],
      "metadata": {}
    },
    {
      "cell_type": "markdown",
      "source": [
        "### **1c)** What is expected total reward for the policy in 1b)?"
      ],
      "metadata": {}
    },
    {
      "cell_type": "markdown",
      "source": [
        "The expected total reward for the policy above is given by calculating \r\n",
        "\r\n",
        "$$V^\\pi (S) = E\\left[ \\sum_{t=1}^{T} r(s_t,a_t,s_{t+1}) {\\Large |} S\\right] = \\sum_{t=1}^{T} r(s_t,a_t,s_{t+1}) p(s_{t+1} | a_t,s_t)$$ \r\n",
        "\r\n",
        "where $S$ is the starting point of the matrix. Hence, with this policy where the actions are not decided probabilistically meaning $p(s_{t+1} | a_t,s_t) = 1$, the above equation becomes\r\n",
        "\r\n",
        "$$V^\\pi (S) = \\sum_{t=1}^{T} r(s_t,a_t,s_{t+1})$$\r\n",
        "\r\n",
        "which when expanded becomes\r\n",
        "\r\n",
        "$$V^\\pi (S) = r(s_1,E,s_2) + r(s_2,E,s_3) + r(s_3,N,s_6) + r(s_6,N,s_9) + r(s_9,N,s_12)$$\r\n",
        "$$ = (-1) + 1 + (-1) + 1 + 0 = 0$$"
      ],
      "metadata": {}
    },
    {
      "cell_type": "markdown",
      "source": [
        "## Value Iteration"
      ],
      "metadata": {
        "id": "ZyQ7IatcH7e7"
      }
    },
    {
      "cell_type": "markdown",
      "source": [
        "For larger problems we need to utilize algorithms to determine the optimal policy $\\pi^*$. *Value iteration* is one such algorithm that iteratively computes the value for each state. Recall that for a policy to be optimal, it must satisfy the Bellman equation above, meaning that plugging in a given candidate $V^*$ in the right-hand side (RHS) of the Bellman equation should result in the same $V^*$ on the left-hand side (LHS). This property will form the basis of our algorithm. Essentially, it can be shown that repeated application of the RHS to any intial value function $V^0(s)$ will eventually lead to the value $V$ which statifies the Bellman equation. Hence repeated application of the Bellman equation will also lead to the optimal value function. We can then extract the optimal policy by simply noting what actions that satisfy the equation. The process of repeated application of the Bellman equation what we here call the _value iteration_ algorithm."
      ],
      "metadata": {
        "id": "5NfqElM_H7e7"
      }
    },
    {
      "cell_type": "markdown",
      "source": [
        "The value iteration algorithm practically procedes as follows:\r\n",
        "\r\n",
        "```\r\n",
        "epsilon is a small value, threshold\r\n",
        "for x from i to infinity \r\n",
        "do\r\n",
        "    for each state s\r\n",
        "    do\r\n",
        "        V_k[s] = max_a Σ_s' p(s′|s,a)*(r(a,s,s′) + γ*V_k−1[s′])\r\n",
        "    end\r\n",
        "    if  |V_k[s]-V_k-1[s]| < epsilon for all s\r\n",
        "        for each state s,\r\n",
        "        do\r\n",
        "            π(s)=argmax_a ∑_s′ p(s′|s,a)*(r(a,s,s′) + γ*V_k−1[s′])\r\n",
        "            return π, V_k \r\n",
        "        end\r\n",
        "end\r\n",
        "\r\n",
        "```\r\n",
        "\r\n",
        "\r\n",
        "\r\n",
        "\r\n"
      ],
      "metadata": {
        "id": "4qbn4HjqR2fA"
      }
    },
    {
      "cell_type": "markdown",
      "source": [
        "**Example:** We will illustrate the value iteration algorithm by going through two iterations. Below is a 3x3 grid with the rewards given in each state. Assume now that given a certain state $s$ and action $a$, there is a probability of 0.8 that that action will be performed and a probability of 0.2 that no action is taken. For instance, if we take action **E** in state $(x,y)$ we will go to $(x+1,y)$ 80 percent of the time (given that that action is available in that state, that is, we stay on the grid), and remain still 20 percent of the time. We will use a discount factor $\\gamma = 0.9$. Let the initial value be $V^0(s)=0$ for all states $s\\in S$. \r\n",
        "\r\n",
        "| | | |  \r\n",
        "|----------|----------|---------|  \r\n",
        "|0|0|0|\r\n",
        "|0|10|0|  \r\n",
        "|0|0|0|  \r\n",
        "\r\n",
        "\r\n",
        "**Iteration 1**: The first iteration is trivial, $V^1(s)$ becomes the $\\max_a \\sum_{s'} p(s'|s,a) r(s,a,s')$ since $V^0$ was zero for all $s'$. The updated values for each state become\r\n",
        "\r\n",
        "| | | |  \r\n",
        "|----------|----------|---------|  \r\n",
        "|0|8|0|\r\n",
        "|8|2|8|  \r\n",
        "|0|8|0|  \r\n",
        "  \r\n",
        "**Iteration 2**:  \r\n",
        "  \r\n",
        "Staring with cell (0,0) (lower left corner): We find the expected value of each move:  \r\n",
        "Action **S**: 0  \r\n",
        "Action **E**: 0.8( 0 + 0.9 \\* 8) + 0.2(0 + 0.9 \\* 0) = 5.76  \r\n",
        "Action **N**: 0.8( 0 + 0.9 \\* 8) + 0.2(0 + 0.9 \\* 0) = 5.76  \r\n",
        "Action **W**: 0\r\n",
        "\r\n",
        "Hence any action between **E** and **N** would be best at this stage.\r\n",
        "\r\n",
        "Similarly for cell (1,0):\r\n",
        "\r\n",
        "Action **N**: 0.8( 10 + 0.9 \\* 2) + 0.2(0 + 0.9 \\* 8) = 10.88 (Action **N** is the maximizing action)  \r\n",
        "\r\n",
        "Similar calculations for remaining cells give us:\r\n",
        "\r\n",
        "| | | |  \r\n",
        "|----------|----------|---------|  \r\n",
        "|5.76|10.88|5.76|\r\n",
        "|10.88|8.12|10.88|  \r\n",
        "|5.76|10.88|5.76|  \r\n"
      ],
      "metadata": {
        "id": "K7hOzat7H7e8"
      }
    },
    {
      "cell_type": "markdown",
      "source": [
        "## Question 2"
      ],
      "metadata": {
        "id": "ccoMLc71H7e8"
      }
    },
    {
      "cell_type": "markdown",
      "source": [
        "### **2a)** Implement the value iteration algorithm just described here in python, and show the converging optimal value function and the optimal policy for the above 3x3 grid. Hint: use the pseudo-code above as a starting point, but be sure to explain what every line does."
      ],
      "metadata": {}
    },
    {
      "cell_type": "code",
      "execution_count": 10,
      "source": [
        "# imports and global configuration\r\n",
        "import numpy as np\r\n",
        "from markov_decision_process import MDP\r\n",
        "\r\n",
        "# check if graphviz is installed\r\n",
        "try:\r\n",
        "    from graphviz import Digraph\r\n",
        "    has_graphviz = True\r\n",
        "except ImportError:\r\n",
        "    has_graphviz = False"
      ],
      "outputs": [],
      "metadata": {}
    },
    {
      "cell_type": "markdown",
      "source": [
        "Implementing a **Markov Decision Process** class to solve using the **Value Iteration algoritm**."
      ],
      "metadata": {}
    },
    {
      "cell_type": "code",
      "execution_count": 49,
      "source": [
        "def plot_graph(mdp, graph_size=\"10,10\", s_node_size=\"1,5\", a_node_size=\"0,5\", rankdir=\"LR\",):\r\n",
        "  \"\"\"\r\n",
        "  Function for pretty drawing MDP graph with graphviz library.\r\n",
        "  Requirements:\r\n",
        "  graphviz : https://www.graphviz.org/\r\n",
        "  for ubuntu users: sudo apt-get install graphviz\r\n",
        "  python library for graphviz\r\n",
        "  for pip users: pip install graphviz\r\n",
        "  :param mdp:\r\n",
        "  :param graph_size: size of graph plot\r\n",
        "  :param s_node_size: size of state nodes\r\n",
        "  :param a_node_size: size of action nodes\r\n",
        "  :param rankdir: order for drawing\r\n",
        "  :return: dot object\r\n",
        "  \"\"\"\r\n",
        "  s_node_attrs = {\r\n",
        "      \"shape\": \"doublecircle\",\r\n",
        "      \"color\": \"#85ff75\",\r\n",
        "      \"style\": \"filled\",\r\n",
        "      \"width\": str(s_node_size),\r\n",
        "      \"height\": str(s_node_size),\r\n",
        "      \"fontname\": \"Arial\",\r\n",
        "      \"fontsize\": \"24\",\r\n",
        "  }\r\n",
        "\r\n",
        "  a_node_attrs = {\r\n",
        "      \"shape\": \"circle\",\r\n",
        "      \"color\": \"lightpink\",\r\n",
        "      \"style\": \"filled\",\r\n",
        "      \"width\": str(a_node_size),\r\n",
        "      \"height\": str(a_node_size),\r\n",
        "      \"fontname\": \"Arial\",\r\n",
        "      \"fontsize\": \"20\",\r\n",
        "  }\r\n",
        "\r\n",
        "  s_a_edge_attrs = {\"style\": \"bold\", \"color\": \"red\", \"ratio\": \"auto\"}\r\n",
        "\r\n",
        "  a_s_edge_attrs = {\r\n",
        "      \"style\": \"dashed\",\r\n",
        "      \"color\": \"blue\",\r\n",
        "      \"ratio\": \"auto\",\r\n",
        "      \"fontname\": \"Arial\",\r\n",
        "      \"fontsize\": \"16\",\r\n",
        "  }\r\n",
        "\r\n",
        "  graph = Digraph(name=\"MDP\")\r\n",
        "  graph.attr(rankdir=rankdir, size=graph_size)\r\n",
        "  for state_node in mdp._transition_probs:\r\n",
        "    graph.node(str(state_node), **s_node_attrs)\r\n",
        "\r\n",
        "    for posible_action in mdp.get_actions(state_node):\r\n",
        "      action_node = state_node + \"-\" + posible_action\r\n",
        "      graph.node(action_node, label=str(posible_action), **a_node_attrs)\r\n",
        "      graph.edge(state_node, state_node + \"-\" + posible_action, **s_a_edge_attrs)\r\n",
        "\r\n",
        "      for posible_next_state in mdp.get_next_states(state_node, posible_action):\r\n",
        "        probability = mdp.get_transition_prob(\r\n",
        "          state_node, posible_action, posible_next_state\r\n",
        "        )\r\n",
        "        reward = mdp.get_reward(state_node, posible_action, posible_next_state)\r\n",
        "\r\n",
        "        if reward != 0:\r\n",
        "          label_a_s_edge = (\r\n",
        "              \"p = \" + str(probability) + \"  \" + \"reward =\" + str(reward)\r\n",
        "          )\r\n",
        "        else:\r\n",
        "          label_a_s_edge = \"p = \" + str(probability)\r\n",
        "\r\n",
        "        graph.edge(\r\n",
        "          action_node,\r\n",
        "          posible_next_state,\r\n",
        "          label=label_a_s_edge,\r\n",
        "          **a_s_edge_attrs\r\n",
        "        )\r\n",
        "  return graph\r\n",
        "\r\n",
        "\r\n",
        "def plot_graph_with_state_values(mdp, state_values):\r\n",
        "  \"\"\" Plot graph with state values\"\"\"\r\n",
        "  graph = plot_graph(mdp)\r\n",
        "  for state_node in mdp._transition_probs:\r\n",
        "    value = state_values[state_node]\r\n",
        "    graph.node(state_node, label=str(state_node) + \"\\n\" + \"V =\" + str(value)[:4])\r\n",
        "  return graph\r\n",
        "\r\n",
        "\r\n",
        "def get_optimal_action_for_plot(mdp, state_values, state, get_action_value, gamma=0.9):\r\n",
        "  \"\"\" Finds optimal action using formula above. \"\"\"\r\n",
        "  if mdp.is_terminal(state):\r\n",
        "    return None\r\n",
        "  next_actions = mdp.get_actions(state)\r\n",
        "  q_values = [\r\n",
        "    get_action_value(mdp, state_values, state, action, gamma)\r\n",
        "    for action in next_actions\r\n",
        "  ]\r\n",
        "  optimal_action = next_actions[np.argmax(q_values)]\r\n",
        "  return optimal_action\r\n",
        "\r\n",
        "\r\n",
        "def plot_graph_optimal_strategy_and_state_values(mdp, state_values, get_action_value, gamma=0.9):\r\n",
        "  \"\"\" Plot graph with state values and \"\"\"\r\n",
        "  graph = plot_graph(mdp)\r\n",
        "  opt_s_a_edge_attrs = {\r\n",
        "    \"style\": \"bold\",\r\n",
        "    \"color\": \"green\",\r\n",
        "    \"ratio\": \"auto\",\r\n",
        "    \"penwidth\": \"6\",\r\n",
        "  }\r\n",
        "\r\n",
        "  for state_node in mdp._transition_probs:\r\n",
        "    value = state_values[state_node]\r\n",
        "    graph.node(state_node, label=str(state_node) + \"\\n\" + \"V =\" + str(value)[:4])\r\n",
        "    for action in mdp.get_actions(state_node):\r\n",
        "      if action == get_optimal_action_for_plot(mdp, state_values, state_node, get_action_value, gamma):\r\n",
        "        graph.edge(state_node, state_node + \"-\" + action, **opt_s_a_edge_attrs)\r\n",
        "  return graph\r\n",
        "\r\n"
      ],
      "outputs": [],
      "metadata": {}
    },
    {
      "cell_type": "code",
      "execution_count": 56,
      "source": [
        "# define transition probabilities according to the description above.\r\n",
        "transition_probs = {\r\n",
        "  1: {\r\n",
        "    \"N\": {4: 0.8, 1: 0.2}, \r\n",
        "    \"E\": {2: 0.8, 1: 0.2}\r\n",
        "  },\r\n",
        "  2: {\r\n",
        "    \"N\": {5: 0.8, 2: 0.2}, \r\n",
        "    \"E\": {3: 0.8, 2: 0.2}, \r\n",
        "    \"W\": {1: 0.8, 2: 0.2}\r\n",
        "  },\r\n",
        "  3: {\r\n",
        "    \"N\": {6: 0.8, 3: 0.2}, \r\n",
        "    \"W\": {2: 0.8, 3: 0.2}\r\n",
        "  },\r\n",
        "  4: {\r\n",
        "    \"N\": {7: 0.8, 4: 0.2}, \r\n",
        "    \"E\": {5: 0.8, 4: 0.2}, \r\n",
        "    \"S\": {1: 0.8, 4: 0.2}\r\n",
        "  },\r\n",
        "  5: {\r\n",
        "    \"N\": {8: 0.8, 5: 0.2},\r\n",
        "    \"E\": {6: 0.8, 5: 0.2},\r\n",
        "    \"S\": {2: 0.8, 5: 0.2},\r\n",
        "    \"W\": {4: 0.8, 5: 0.2},\r\n",
        "  },\r\n",
        "  6: {\r\n",
        "    \"N\": {9: 0.8, 6: 0.2}, \r\n",
        "    \"S\": {3: 0.8, 6: 0.2}, \r\n",
        "    \"W\": {5: 0.8, 6: 0.2}\r\n",
        "  },\r\n",
        "  7: {\r\n",
        "    \"E\": {8: 0.8, 7: 0.2}, \r\n",
        "    \"S\": {4: 0.8, 7: 0.2}\r\n",
        "  },\r\n",
        "  8: {\r\n",
        "    \"E\": {9: 0.8, 8: 0.2}, \r\n",
        "    \"S\": {5: 0.8, 8: 0.2}, \r\n",
        "    \"W\": {7: 0.8, 8: 0.2}\r\n",
        "  },\r\n",
        "  9: {\r\n",
        "    \"S\": {6: 0.8, 9: 0.2}, \r\n",
        "    \"W\": {8: 0.8, 9: 0.2}\r\n",
        "  }\r\n",
        "}\r\n",
        "\r\n",
        "# define reward function / mapping\r\n",
        "rewards = {\r\n",
        "  1: {\r\n",
        "    \"N\": {4: 0, 1: 0}, \r\n",
        "    \"E\": {2: 0, 1: 0}\r\n",
        "  },\r\n",
        "  2: {\r\n",
        "    \"N\": {5: 10, 2: 0}, \r\n",
        "    \"E\": {3: 0, 2: 0}, \r\n",
        "    \"W\": {1: 0, 2: 0}\r\n",
        "  },\r\n",
        "  3: {\r\n",
        "    \"N\": {6: 0, 3: 0}, \r\n",
        "    \"W\": {2: 0, 3: 0}\r\n",
        "  },\r\n",
        "  4: {\r\n",
        "    \"N\": {7: 0, 4: 0}, \r\n",
        "    \"E\": {5: 10, 4: 0}, \r\n",
        "    \"S\": {1: 0, 4: 0}\r\n",
        "  },\r\n",
        "  5: {\r\n",
        "    \"N\": {8: 0, 5: 0}, \r\n",
        "    \"E\": {6: 0, 5: 0}, \r\n",
        "    \"S\": {2: 0, 5: 0}, \r\n",
        "    \"W\": {4: 0, 5: 0}\r\n",
        "  },\r\n",
        "  6: {\r\n",
        "    \"N\": {9: 0, 6: 0}, \r\n",
        "    \"S\": {3: 0, 6: 0}, \r\n",
        "    \"W\": {5: 10, 6: 0}\r\n",
        "  },\r\n",
        "  7: {\r\n",
        "    \"E\": {8: 0, 7: 0}, \r\n",
        "    \"S\": {4: 0, 7: 0}\r\n",
        "  },\r\n",
        "  8: {\r\n",
        "    \"E\": {9: 0, 8: 0}, \r\n",
        "    \"S\": {5: 10, 8: 0}, \r\n",
        "    \"W\": {7: 0, 8: 0}\r\n",
        "  },\r\n",
        "  9: {\r\n",
        "    \"S\": {6: 0, 9: 0}, \r\n",
        "    \"W\": {8: 0, 9: 0}\r\n",
        "  }\r\n",
        "}\r\n",
        "\r\n",
        "mdp = MDP(transition_probs, rewards, initial_state=1)\r\n",
        "\r\n",
        "from IPython.display import display\r\n",
        "if has_graphviz:\r\n",
        "    display(plot_graph(mdp, graph_size='9,20'))"
      ],
      "outputs": [
        {
          "output_type": "display_data",
          "data": {
            "image/svg+xml": "<?xml version=\"1.0\" encoding=\"UTF-8\" standalone=\"no\"?>\n<!DOCTYPE svg PUBLIC \"-//W3C//DTD SVG 1.1//EN\"\n \"http://www.w3.org/Graphics/SVG/1.1/DTD/svg11.dtd\">\n<!-- Generated by graphviz version 2.40.1 (20161225.0304)\n -->\n<!-- Title: MDP Pages: 1 -->\n<svg width=\"648pt\" height=\"124pt\"\n viewBox=\"0.00 0.00 648.00 124.16\" xmlns=\"http://www.w3.org/2000/svg\" xmlns:xlink=\"http://www.w3.org/1999/xlink\">\n<g id=\"graph0\" class=\"graph\" transform=\"scale(.2177 .2177) rotate(0) translate(4 566.1939)\">\n<title>MDP</title>\n<polygon fill=\"#ffffff\" stroke=\"transparent\" points=\"-4,4 -4,-566.1939 2971.9209,-566.1939 2971.9209,4 -4,4\"/>\n<!-- 1 -->\n<g id=\"node1\" class=\"node\">\n<title>1</title>\n<ellipse fill=\"#85ff75\" stroke=\"#85ff75\" cx=\"40\" cy=\"-207\" rx=\"36\" ry=\"36\"/>\n<ellipse fill=\"none\" stroke=\"#85ff75\" cx=\"40\" cy=\"-207\" rx=\"40\" ry=\"40\"/>\n<text text-anchor=\"middle\" x=\"40\" y=\"-200.8\" font-family=\"Arial\" font-size=\"24.00\" fill=\"#000000\">1</text>\n</g>\n<!-- 1&#45;N -->\n<g id=\"node2\" class=\"node\">\n<title>1&#45;N</title>\n<ellipse fill=\"#ffb6c1\" stroke=\"#ffb6c1\" cx=\"188.6274\" cy=\"-257\" rx=\"22.7556\" ry=\"22.7556\"/>\n<text text-anchor=\"middle\" x=\"188.6274\" y=\"-252\" font-family=\"Arial\" font-size=\"20.00\" fill=\"#000000\">N</text>\n</g>\n<!-- 1&#45;&gt;1&#45;N -->\n<g id=\"edge1\" class=\"edge\">\n<title>1&#45;&gt;1&#45;N</title>\n<path fill=\"none\" stroke=\"#ff0000\" stroke-width=\"2\" d=\"M72.5536,-230.3579C80.5593,-235.1971 89.3303,-239.7922 98,-243 116.3001,-249.7711 137.8503,-253.2677 155.344,-255.0731\"/>\n<polygon fill=\"#ff0000\" stroke=\"#ff0000\" stroke-width=\"2\" points=\"155.3751,-258.5898 165.6467,-255.9929 155.9976,-251.6175 155.3751,-258.5898\"/>\n</g>\n<!-- 1&#45;E -->\n<g id=\"node4\" class=\"node\">\n<title>1&#45;E</title>\n<ellipse fill=\"#ffb6c1\" stroke=\"#ffb6c1\" cx=\"188.6274\" cy=\"-158\" rx=\"21.4286\" ry=\"21.4286\"/>\n<text text-anchor=\"middle\" x=\"188.6274\" y=\"-153\" font-family=\"Arial\" font-size=\"20.00\" fill=\"#000000\">E</text>\n</g>\n<!-- 1&#45;&gt;1&#45;E -->\n<g id=\"edge4\" class=\"edge\">\n<title>1&#45;&gt;1&#45;E</title>\n<path fill=\"none\" stroke=\"#ff0000\" stroke-width=\"2\" d=\"M78.9839,-197.8438C99.7413,-192.5516 125.5501,-185.3018 148,-177 152.0259,-175.5113 156.2018,-173.7827 160.2764,-171.9866\"/>\n<polygon fill=\"#ff0000\" stroke=\"#ff0000\" stroke-width=\"2\" points=\"161.8582,-175.1116 169.4819,-167.7542 158.9341,-168.7516 161.8582,-175.1116\"/>\n</g>\n<!-- 1&#45;N&#45;&gt;1 -->\n<g id=\"edge3\" class=\"edge\">\n<title>1&#45;N&#45;&gt;1</title>\n<path fill=\"none\" stroke=\"#0000ff\" stroke-dasharray=\"5,2\" d=\"M173.6441,-239.7918C166.5845,-232.8082 157.6072,-225.3712 148,-221 130.14,-212.8738 109.0114,-209.0355 90.1996,-207.3439\"/>\n<polygon fill=\"#0000ff\" stroke=\"#0000ff\" points=\"90.2479,-203.8384 80.0224,-206.6114 89.7453,-210.8203 90.2479,-203.8384\"/>\n<text text-anchor=\"middle\" x=\"123\" y=\"-226.2\" font-family=\"Arial\" font-size=\"16.00\" fill=\"#000000\">p = 0.2</text>\n</g>\n<!-- 4 -->\n<g id=\"node3\" class=\"node\">\n<title>4</title>\n<ellipse fill=\"#85ff75\" stroke=\"#85ff75\" cx=\"337.2548\" cy=\"-371\" rx=\"36\" ry=\"36\"/>\n<ellipse fill=\"none\" stroke=\"#85ff75\" cx=\"337.2548\" cy=\"-371\" rx=\"40\" ry=\"40\"/>\n<text text-anchor=\"middle\" x=\"337.2548\" y=\"-364.8\" font-family=\"Arial\" font-size=\"24.00\" fill=\"#000000\">4</text>\n</g>\n<!-- 1&#45;N&#45;&gt;4 -->\n<g id=\"edge2\" class=\"edge\">\n<title>1&#45;N&#45;&gt;4</title>\n<path fill=\"none\" stroke=\"#0000ff\" stroke-dasharray=\"5,2\" d=\"M206.8521,-270.9786C229.2418,-288.152 267.8717,-317.7818 297.2922,-340.3479\"/>\n<polygon fill=\"#0000ff\" stroke=\"#0000ff\" points=\"295.26,-343.2002 305.3249,-346.5091 299.5203,-337.6459 295.26,-343.2002\"/>\n<text text-anchor=\"middle\" x=\"254.2548\" y=\"-330.2\" font-family=\"Arial\" font-size=\"16.00\" fill=\"#000000\">p = 0.8</text>\n</g>\n<!-- 4&#45;N -->\n<g id=\"node14\" class=\"node\">\n<title>4&#45;N</title>\n<ellipse fill=\"#ffb6c1\" stroke=\"#ffb6c1\" cx=\"485.8823\" cy=\"-404\" rx=\"22.7556\" ry=\"22.7556\"/>\n<text text-anchor=\"middle\" x=\"485.8823\" y=\"-399\" font-family=\"Arial\" font-size=\"20.00\" fill=\"#000000\">N</text>\n</g>\n<!-- 4&#45;&gt;4&#45;N -->\n<g id=\"edge22\" class=\"edge\">\n<title>4&#45;&gt;4&#45;N</title>\n<path fill=\"none\" stroke=\"#ff0000\" stroke-width=\"2\" d=\"M377.3543,-373.2409C397.9598,-375.1306 423.2887,-378.6079 445.2548,-385 448.909,-386.0633 452.6487,-387.4132 456.3081,-388.9014\"/>\n<polygon fill=\"#ff0000\" stroke=\"#ff0000\" stroke-width=\"2\" points=\"455.1329,-392.2089 465.6933,-393.0622 457.9699,-385.8096 455.1329,-392.2089\"/>\n</g>\n<!-- 4&#45;E -->\n<g id=\"node16\" class=\"node\">\n<title>4&#45;E</title>\n<ellipse fill=\"#ffb6c1\" stroke=\"#ffb6c1\" cx=\"485.8823\" cy=\"-276\" rx=\"21.4286\" ry=\"21.4286\"/>\n<text text-anchor=\"middle\" x=\"485.8823\" y=\"-271\" font-family=\"Arial\" font-size=\"20.00\" fill=\"#000000\">E</text>\n</g>\n<!-- 4&#45;&gt;4&#45;E -->\n<g id=\"edge25\" class=\"edge\">\n<title>4&#45;&gt;4&#45;E</title>\n<path fill=\"none\" stroke=\"#ff0000\" stroke-width=\"2\" d=\"M367.316,-344.0712C376.0381,-336.8328 385.7737,-329.2781 395.2548,-323 406.3105,-315.6793 435.4018,-300.8605 457.6693,-289.8093\"/>\n<polygon fill=\"#ff0000\" stroke=\"#ff0000\" stroke-width=\"2\" points=\"459.3071,-292.904 466.7223,-285.3366 456.2065,-286.6282 459.3071,-292.904\"/>\n</g>\n<!-- 4&#45;S -->\n<g id=\"node17\" class=\"node\">\n<title>4&#45;S</title>\n<ellipse fill=\"#ffb6c1\" stroke=\"#ffb6c1\" cx=\"485.8823\" cy=\"-538\" rx=\"21.4286\" ry=\"21.4286\"/>\n<text text-anchor=\"middle\" x=\"485.8823\" y=\"-533\" font-family=\"Arial\" font-size=\"20.00\" fill=\"#000000\">S</text>\n</g>\n<!-- 4&#45;&gt;4&#45;S -->\n<g id=\"edge28\" class=\"edge\">\n<title>4&#45;&gt;4&#45;S</title>\n<path fill=\"none\" stroke=\"#ff0000\" stroke-width=\"2\" d=\"M348.6758,-409.3897C357.8809,-435.0226 372.996,-468.1045 395.2548,-491 400.0751,-495.9582 432.6987,-512.338 457.4353,-524.3712\"/>\n<polygon fill=\"#ff0000\" stroke=\"#ff0000\" stroke-width=\"2\" points=\"455.9294,-527.5307 466.4553,-528.7373 458.9793,-521.23 455.9294,-527.5307\"/>\n</g>\n<!-- 1&#45;E&#45;&gt;1 -->\n<g id=\"edge6\" class=\"edge\">\n<title>1&#45;E&#45;&gt;1</title>\n<path fill=\"none\" stroke=\"#0000ff\" stroke-dasharray=\"5,2\" d=\"M167.714,-152.8245C148.8393,-149.1815 120.6425,-146.336 98,-155 89.2808,-158.3363 81.0466,-163.6544 73.6698,-169.6429\"/>\n<polygon fill=\"#0000ff\" stroke=\"#0000ff\" points=\"71.2369,-167.121 66.0194,-176.3421 75.8484,-172.3874 71.2369,-167.121\"/>\n<text text-anchor=\"middle\" x=\"123\" y=\"-160.2\" font-family=\"Arial\" font-size=\"16.00\" fill=\"#000000\">p = 0.2</text>\n</g>\n<!-- 2 -->\n<g id=\"node5\" class=\"node\">\n<title>2</title>\n<ellipse fill=\"#85ff75\" stroke=\"#85ff75\" cx=\"2401.926\" cy=\"-129\" rx=\"36\" ry=\"36\"/>\n<ellipse fill=\"none\" stroke=\"#85ff75\" cx=\"2401.926\" cy=\"-129\" rx=\"40\" ry=\"40\"/>\n<text text-anchor=\"middle\" x=\"2401.926\" y=\"-122.8\" font-family=\"Arial\" font-size=\"24.00\" fill=\"#000000\">2</text>\n</g>\n<!-- 1&#45;E&#45;&gt;2 -->\n<g id=\"edge5\" class=\"edge\">\n<title>1&#45;E&#45;&gt;2</title>\n<path fill=\"none\" stroke=\"#0000ff\" stroke-dasharray=\"5,2\" d=\"M200.3566,-140.0948C222.8077,-108.2319 275.1816,-45 337.2548,-45 337.2548,-45 337.2548,-45 2011.4285,-45 2137.5973,-45 2281.6717,-87.4294 2354.4708,-111.978\"/>\n<polygon fill=\"#0000ff\" stroke=\"#0000ff\" points=\"2353.6662,-115.4015 2364.2607,-115.317 2355.9259,-108.7763 2353.6662,-115.4015\"/>\n<text text-anchor=\"middle\" x=\"1147.4335\" y=\"-50.2\" font-family=\"Arial\" font-size=\"16.00\" fill=\"#000000\">p = 0.8</text>\n</g>\n<!-- 2&#45;N -->\n<g id=\"node6\" class=\"node\">\n<title>2&#45;N</title>\n<ellipse fill=\"#ffb6c1\" stroke=\"#ffb6c1\" cx=\"2552.6747\" cy=\"-266\" rx=\"22.7556\" ry=\"22.7556\"/>\n<text text-anchor=\"middle\" x=\"2552.6747\" y=\"-261\" font-family=\"Arial\" font-size=\"20.00\" fill=\"#000000\">N</text>\n</g>\n<!-- 2&#45;&gt;2&#45;N -->\n<g id=\"edge7\" class=\"edge\">\n<title>2&#45;&gt;2&#45;N</title>\n<path fill=\"none\" stroke=\"#ff0000\" stroke-width=\"2\" d=\"M2422.6893,-163.6662C2432.739,-178.6939 2445.7061,-195.825 2459.926,-209 2478.7506,-226.4414 2503.6983,-241.4163 2522.978,-251.6346\"/>\n<polygon fill=\"#ff0000\" stroke=\"#ff0000\" stroke-width=\"2\" points=\"2521.4442,-254.7816 2531.9356,-256.2587 2524.6552,-248.5615 2521.4442,-254.7816\"/>\n</g>\n<!-- 2&#45;E -->\n<g id=\"node8\" class=\"node\">\n<title>2&#45;E</title>\n<ellipse fill=\"#ffb6c1\" stroke=\"#ffb6c1\" cx=\"2552.6747\" cy=\"-193\" rx=\"21.4286\" ry=\"21.4286\"/>\n<text text-anchor=\"middle\" x=\"2552.6747\" y=\"-188\" font-family=\"Arial\" font-size=\"20.00\" fill=\"#000000\">E</text>\n</g>\n<!-- 2&#45;&gt;2&#45;E -->\n<g id=\"edge10\" class=\"edge\">\n<title>2&#45;&gt;2&#45;E</title>\n<path fill=\"none\" stroke=\"#ff0000\" stroke-width=\"2\" d=\"M2439.0052,-144.1983C2459.8878,-152.8207 2486.418,-163.88 2509.926,-174 2514.4438,-175.9449 2519.2166,-178.0329 2523.8708,-180.0875\"/>\n<polygon fill=\"#ff0000\" stroke=\"#ff0000\" stroke-width=\"2\" points=\"2522.578,-183.343 2533.138,-184.2014 2525.4182,-176.945 2522.578,-183.343\"/>\n</g>\n<!-- 2&#45;W -->\n<g id=\"node10\" class=\"node\">\n<title>2&#45;W</title>\n<ellipse fill=\"#ffb6c1\" stroke=\"#ffb6c1\" cx=\"2552.6747\" cy=\"-122\" rx=\"25\" ry=\"25\"/>\n<text text-anchor=\"middle\" x=\"2552.6747\" y=\"-117\" font-family=\"Arial\" font-size=\"20.00\" fill=\"#000000\">W</text>\n</g>\n<!-- 2&#45;&gt;2&#45;W -->\n<g id=\"edge13\" class=\"edge\">\n<title>2&#45;&gt;2&#45;W</title>\n<path fill=\"none\" stroke=\"#ff0000\" stroke-width=\"2\" d=\"M2438.8441,-113.4863C2445.7371,-111.209 2452.9643,-109.2215 2459.926,-108 2481.8138,-104.1595 2487.9814,-104.4981 2509.926,-108 2513.165,-108.5169 2516.4919,-109.241 2519.7905,-110.0904\"/>\n<polygon fill=\"#ff0000\" stroke=\"#ff0000\" stroke-width=\"2\" points=\"2518.9054,-113.4781 2529.4861,-112.9327 2520.8746,-106.7608 2518.9054,-113.4781\"/>\n</g>\n<!-- 2&#45;N&#45;&gt;2 -->\n<g id=\"edge9\" class=\"edge\">\n<title>2&#45;N&#45;&gt;2</title>\n<path fill=\"none\" stroke=\"#0000ff\" stroke-dasharray=\"5,2\" d=\"M2529.7609,-264.9294C2509.4273,-262.8858 2479.9262,-257.1115 2459.926,-241 2439.7083,-224.7133 2425.777,-199.4892 2416.6458,-177.0995\"/>\n<polygon fill=\"#0000ff\" stroke=\"#0000ff\" points=\"2419.8884,-175.7804 2413.022,-167.7118 2413.358,-178.3013 2419.8884,-175.7804\"/>\n<text text-anchor=\"middle\" x=\"2484.926\" y=\"-267.2\" font-family=\"Arial\" font-size=\"16.00\" fill=\"#000000\">p = 0.2</text>\n</g>\n<!-- 5 -->\n<g id=\"node7\" class=\"node\">\n<title>5</title>\n<ellipse fill=\"#85ff75\" stroke=\"#85ff75\" cx=\"2792.4234\" cy=\"-349\" rx=\"36\" ry=\"36\"/>\n<ellipse fill=\"none\" stroke=\"#85ff75\" cx=\"2792.4234\" cy=\"-349\" rx=\"40\" ry=\"40\"/>\n<text text-anchor=\"middle\" x=\"2792.4234\" y=\"-342.8\" font-family=\"Arial\" font-size=\"24.00\" fill=\"#000000\">5</text>\n</g>\n<!-- 2&#45;N&#45;&gt;5 -->\n<g id=\"edge8\" class=\"edge\">\n<title>2&#45;N&#45;&gt;5</title>\n<path fill=\"none\" stroke=\"#0000ff\" stroke-dasharray=\"5,2\" d=\"M2575.363,-263.3977C2611.2466,-260.3326 2682.361,-258.5966 2734.4234,-285 2745.2894,-290.5107 2755.1005,-298.9702 2763.4317,-307.9516\"/>\n<polygon fill=\"#0000ff\" stroke=\"#0000ff\" points=\"2760.8618,-310.3299 2770.0726,-315.5655 2766.1371,-305.7287 2760.8618,-310.3299\"/>\n<text text-anchor=\"middle\" x=\"2664.9234\" y=\"-290.2\" font-family=\"Arial\" font-size=\"16.00\" fill=\"#000000\">p = 0.8 &#160;reward =10</text>\n</g>\n<!-- 5&#45;N -->\n<g id=\"node18\" class=\"node\">\n<title>5&#45;N</title>\n<ellipse fill=\"#ffb6c1\" stroke=\"#ffb6c1\" cx=\"2943.1722\" cy=\"-396\" rx=\"22.7556\" ry=\"22.7556\"/>\n<text text-anchor=\"middle\" x=\"2943.1722\" y=\"-391\" font-family=\"Arial\" font-size=\"20.00\" fill=\"#000000\">N</text>\n</g>\n<!-- 5&#45;&gt;5&#45;N -->\n<g id=\"edge31\" class=\"edge\">\n<title>5&#45;&gt;5&#45;N</title>\n<path fill=\"none\" stroke=\"#ff0000\" stroke-width=\"2\" d=\"M2826.0934,-370.8962C2833.8358,-375.1449 2842.2134,-379.1552 2850.4234,-382 2869.7174,-388.6853 2892.3622,-392.1804 2910.4464,-394.0065\"/>\n<polygon fill=\"#ff0000\" stroke=\"#ff0000\" stroke-width=\"2\" points=\"2910.2368,-397.5016 2920.5074,-394.9003 2910.8564,-390.529 2910.2368,-397.5016\"/>\n</g>\n<!-- 5&#45;E -->\n<g id=\"node20\" class=\"node\">\n<title>5&#45;E</title>\n<ellipse fill=\"#ffb6c1\" stroke=\"#ffb6c1\" cx=\"2943.1722\" cy=\"-28\" rx=\"21.4286\" ry=\"21.4286\"/>\n<text text-anchor=\"middle\" x=\"2943.1722\" y=\"-23\" font-family=\"Arial\" font-size=\"20.00\" fill=\"#000000\">E</text>\n</g>\n<!-- 5&#45;&gt;5&#45;E -->\n<g id=\"edge34\" class=\"edge\">\n<title>5&#45;&gt;5&#45;E</title>\n<path fill=\"none\" stroke=\"#ff0000\" stroke-width=\"2\" d=\"M2794.3849,-308.9727C2798.9078,-234.3686 2812.7346,-78.3228 2850.4234,-42 2866.4993,-26.5068 2891.9581,-23.593 2912.1389,-24.2285\"/>\n<polygon fill=\"#ff0000\" stroke=\"#ff0000\" stroke-width=\"2\" points=\"2911.9393,-27.7227 2922.1334,-24.8365 2912.3644,-20.7357 2911.9393,-27.7227\"/>\n</g>\n<!-- 5&#45;S -->\n<g id=\"node21\" class=\"node\">\n<title>5&#45;S</title>\n<ellipse fill=\"#ffb6c1\" stroke=\"#ffb6c1\" cx=\"2943.1722\" cy=\"-297\" rx=\"21.4286\" ry=\"21.4286\"/>\n<text text-anchor=\"middle\" x=\"2943.1722\" y=\"-292\" font-family=\"Arial\" font-size=\"20.00\" fill=\"#000000\">S</text>\n</g>\n<!-- 5&#45;&gt;5&#45;S -->\n<g id=\"edge37\" class=\"edge\">\n<title>5&#45;&gt;5&#45;S</title>\n<path fill=\"none\" stroke=\"#ff0000\" stroke-width=\"2\" d=\"M2831.0404,-338.4377C2851.8079,-332.4484 2877.7403,-324.4705 2900.4234,-316 2905.0313,-314.2793 2909.8515,-312.3094 2914.5257,-310.3044\"/>\n<polygon fill=\"#ff0000\" stroke=\"#ff0000\" stroke-width=\"2\" points=\"2916.0665,-313.4502 2923.8001,-306.2085 2913.2385,-307.0468 2916.0665,-313.4502\"/>\n</g>\n<!-- 5&#45;W -->\n<g id=\"node22\" class=\"node\">\n<title>5&#45;W</title>\n<ellipse fill=\"#ffb6c1\" stroke=\"#ffb6c1\" cx=\"2943.1722\" cy=\"-492\" rx=\"25\" ry=\"25\"/>\n<text text-anchor=\"middle\" x=\"2943.1722\" y=\"-487\" font-family=\"Arial\" font-size=\"20.00\" fill=\"#000000\">W</text>\n</g>\n<!-- 5&#45;&gt;5&#45;W -->\n<g id=\"edge40\" class=\"edge\">\n<title>5&#45;&gt;5&#45;W</title>\n<path fill=\"none\" stroke=\"#ff0000\" stroke-width=\"2\" d=\"M2821.4893,-376.5718C2849.3673,-403.0168 2891.0442,-442.5514 2917.6661,-467.805\"/>\n<polygon fill=\"#ff0000\" stroke=\"#ff0000\" stroke-width=\"2\" points=\"2915.4181,-470.4968 2925.082,-474.8397 2920.2357,-465.4182 2915.4181,-470.4968\"/>\n</g>\n<!-- 2&#45;E&#45;&gt;2 -->\n<g id=\"edge12\" class=\"edge\">\n<title>2&#45;E&#45;&gt;2</title>\n<path fill=\"none\" stroke=\"#0000ff\" stroke-dasharray=\"5,2\" d=\"M2531.2693,-190.3633C2511.9511,-187.4241 2483.0933,-181.62 2459.926,-171 2453.6236,-168.111 2447.3148,-164.4877 2441.3014,-160.587\"/>\n<polygon fill=\"#0000ff\" stroke=\"#0000ff\" points=\"2442.967,-157.4857 2432.7376,-154.7269 2439.0138,-163.2627 2442.967,-157.4857\"/>\n<text text-anchor=\"middle\" x=\"2484.926\" y=\"-192.2\" font-family=\"Arial\" font-size=\"16.00\" fill=\"#000000\">p = 0.2</text>\n</g>\n<!-- 3 -->\n<g id=\"node9\" class=\"node\">\n<title>3</title>\n<ellipse fill=\"#85ff75\" stroke=\"#85ff75\" cx=\"2011.4285\" cy=\"-229\" rx=\"36\" ry=\"36\"/>\n<ellipse fill=\"none\" stroke=\"#85ff75\" cx=\"2011.4285\" cy=\"-229\" rx=\"40\" ry=\"40\"/>\n<text text-anchor=\"middle\" x=\"2011.4285\" y=\"-222.8\" font-family=\"Arial\" font-size=\"24.00\" fill=\"#000000\">3</text>\n</g>\n<!-- 2&#45;E&#45;&gt;3 -->\n<g id=\"edge11\" class=\"edge\">\n<title>2&#45;E&#45;&gt;3</title>\n<path fill=\"none\" stroke=\"#0000ff\" stroke-dasharray=\"5,2\" d=\"M2533.0332,-201.7449C2525.8952,-204.5476 2517.6767,-207.3499 2509.926,-209 2339.8554,-245.2068 2293.2285,-227.6642 2119.4285,-233 2097.2167,-233.6819 2091.6376,-233.7649 2069.4285,-233 2066.8688,-232.9118 2064.2467,-232.8019 2061.5998,-232.6752\"/>\n<polygon fill=\"#0000ff\" stroke=\"#0000ff\" points=\"2061.5222,-229.1659 2051.3463,-232.1154 2061.1406,-236.1555 2061.5222,-229.1659\"/>\n<text text-anchor=\"middle\" x=\"2274.426\" y=\"-238.2\" font-family=\"Arial\" font-size=\"16.00\" fill=\"#000000\">p = 0.8</text>\n</g>\n<!-- 3&#45;N -->\n<g id=\"node11\" class=\"node\">\n<title>3&#45;N</title>\n<ellipse fill=\"#ffb6c1\" stroke=\"#ffb6c1\" cx=\"2162.1772\" cy=\"-194\" rx=\"22.7556\" ry=\"22.7556\"/>\n<text text-anchor=\"middle\" x=\"2162.1772\" y=\"-189\" font-family=\"Arial\" font-size=\"20.00\" fill=\"#000000\">N</text>\n</g>\n<!-- 3&#45;&gt;3&#45;N -->\n<g id=\"edge16\" class=\"edge\">\n<title>3&#45;&gt;3&#45;N</title>\n<path fill=\"none\" stroke=\"#ff0000\" stroke-width=\"2\" d=\"M2051.4789,-225.6811C2072.0714,-223.3211 2097.4035,-219.3968 2119.4285,-213 2123.6402,-211.7768 2127.9771,-210.2242 2132.1991,-208.5357\"/>\n<polygon fill=\"#ff0000\" stroke=\"#ff0000\" stroke-width=\"2\" points=\"2133.9234,-211.6042 2141.7288,-204.4399 2131.1593,-205.173 2133.9234,-211.6042\"/>\n</g>\n<!-- 3&#45;W -->\n<g id=\"node13\" class=\"node\">\n<title>3&#45;W</title>\n<ellipse fill=\"#ffb6c1\" stroke=\"#ffb6c1\" cx=\"2162.1772\" cy=\"-129\" rx=\"25\" ry=\"25\"/>\n<text text-anchor=\"middle\" x=\"2162.1772\" y=\"-124\" font-family=\"Arial\" font-size=\"20.00\" fill=\"#000000\">W</text>\n</g>\n<!-- 3&#45;&gt;3&#45;W -->\n<g id=\"edge19\" class=\"edge\">\n<title>3&#45;&gt;3&#45;W</title>\n<path fill=\"none\" stroke=\"#ff0000\" stroke-width=\"2\" d=\"M2019.0504,-189.485C2026.6896,-161.7198 2041.4967,-126.5229 2069.4285,-109 2088.0502,-97.3177 2112.4618,-103.2505 2131.5662,-111.6076\"/>\n<polygon fill=\"#ff0000\" stroke=\"#ff0000\" stroke-width=\"2\" points=\"2130.208,-114.8373 2140.7413,-115.9777 2133.2181,-108.5176 2130.208,-114.8373\"/>\n</g>\n<!-- 2&#45;W&#45;&gt;1 -->\n<g id=\"edge14\" class=\"edge\">\n<title>2&#45;W&#45;&gt;1</title>\n<path fill=\"none\" stroke=\"#0000ff\" stroke-dasharray=\"5,2\" d=\"M2530.2749,-110.8794C2523.7826,-107.8318 2516.6347,-104.6427 2509.926,-102 2480.3717,-90.3581 2472.5432,-88.46 2441.926,-80 2439.5391,-79.3405 2096.9048,0 2094.4285,0 188.6274,0 188.6274,0 188.6274,0 111.3062,0 70.2873,-96.4776 52.0413,-157.7029\"/>\n<polygon fill=\"#0000ff\" stroke=\"#0000ff\" points=\"48.6017,-156.9999 49.2034,-167.5776 55.3294,-158.9334 48.6017,-156.9999\"/>\n<text text-anchor=\"middle\" x=\"1147.4335\" y=\"-5.2\" font-family=\"Arial\" font-size=\"16.00\" fill=\"#000000\">p = 0.8</text>\n</g>\n<!-- 2&#45;W&#45;&gt;2 -->\n<g id=\"edge15\" class=\"edge\">\n<title>2&#45;W&#45;&gt;2</title>\n<path fill=\"none\" stroke=\"#0000ff\" stroke-dasharray=\"5,2\" d=\"M2527.6389,-123.1625C2507.1385,-124.1145 2477.4871,-125.4913 2452.1295,-126.6688\"/>\n<polygon fill=\"#0000ff\" stroke=\"#0000ff\" points=\"2451.7549,-123.1823 2441.9281,-127.1425 2452.0797,-130.1748 2451.7549,-123.1823\"/>\n<text text-anchor=\"middle\" x=\"2484.926\" y=\"-132.2\" font-family=\"Arial\" font-size=\"16.00\" fill=\"#000000\">p = 0.2</text>\n</g>\n<!-- 3&#45;N&#45;&gt;3 -->\n<g id=\"edge18\" class=\"edge\">\n<title>3&#45;N&#45;&gt;3</title>\n<path fill=\"none\" stroke=\"#0000ff\" stroke-dasharray=\"5,2\" d=\"M2139.9325,-189.3892C2120.8197,-186.3373 2092.7397,-184.0436 2069.4285,-191 2063.3724,-192.8072 2057.3609,-195.4714 2051.6305,-198.565\"/>\n<polygon fill=\"#0000ff\" stroke=\"#0000ff\" points=\"2049.727,-195.6241 2042.8908,-203.7184 2053.2826,-201.6539 2049.727,-195.6241\"/>\n<text text-anchor=\"middle\" x=\"2094.4285\" y=\"-196.2\" font-family=\"Arial\" font-size=\"16.00\" fill=\"#000000\">p = 0.2</text>\n</g>\n<!-- 6 -->\n<g id=\"node12\" class=\"node\">\n<title>6</title>\n<ellipse fill=\"#85ff75\" stroke=\"#85ff75\" cx=\"1620.931\" cy=\"-247\" rx=\"36\" ry=\"36\"/>\n<ellipse fill=\"none\" stroke=\"#85ff75\" cx=\"1620.931\" cy=\"-247\" rx=\"40\" ry=\"40\"/>\n<text text-anchor=\"middle\" x=\"1620.931\" y=\"-240.8\" font-family=\"Arial\" font-size=\"24.00\" fill=\"#000000\">6</text>\n</g>\n<!-- 3&#45;N&#45;&gt;6 -->\n<g id=\"edge17\" class=\"edge\">\n<title>3&#45;N&#45;&gt;6</title>\n<path fill=\"none\" stroke=\"#0000ff\" stroke-dasharray=\"5,2\" d=\"M2140.1692,-187.4054C2133.559,-185.6783 2126.2502,-184.0169 2119.4285,-183 2089.5075,-178.5399 2081.6728,-180.6668 2051.4285,-180 1916.1175,-177.0166 1881.7381,-171.9574 1746.931,-184 1716.4374,-186.7241 1706.5561,-181.8038 1678.931,-195 1670.5967,-198.9812 1662.5813,-204.5392 1655.3077,-210.5493\"/>\n<polygon fill=\"#0000ff\" stroke=\"#0000ff\" points=\"1652.939,-207.9714 1647.7263,-217.1952 1657.5533,-213.2352 1652.939,-207.9714\"/>\n<text text-anchor=\"middle\" x=\"1883.9285\" y=\"-184.2\" font-family=\"Arial\" font-size=\"16.00\" fill=\"#000000\">p = 0.8</text>\n</g>\n<!-- 6&#45;N -->\n<g id=\"node23\" class=\"node\">\n<title>6&#45;N</title>\n<ellipse fill=\"#ffb6c1\" stroke=\"#ffb6c1\" cx=\"1771.6798\" cy=\"-344\" rx=\"22.7556\" ry=\"22.7556\"/>\n<text text-anchor=\"middle\" x=\"1771.6798\" y=\"-339\" font-family=\"Arial\" font-size=\"20.00\" fill=\"#000000\">N</text>\n</g>\n<!-- 6&#45;&gt;6&#45;N -->\n<g id=\"edge43\" class=\"edge\">\n<title>6&#45;&gt;6&#45;N</title>\n<path fill=\"none\" stroke=\"#ff0000\" stroke-width=\"2\" d=\"M1654.6175,-269.1799C1662.5766,-274.3899 1671.0425,-279.9071 1678.931,-285 1700.7008,-299.0548 1725.4694,-314.7982 1743.9315,-326.4851\"/>\n<polygon fill=\"#ff0000\" stroke=\"#ff0000\" stroke-width=\"2\" points=\"1742.1249,-329.4838 1752.4473,-331.8713 1745.8668,-323.5678 1742.1249,-329.4838\"/>\n</g>\n<!-- 6&#45;S -->\n<g id=\"node25\" class=\"node\">\n<title>6&#45;S</title>\n<ellipse fill=\"#ffb6c1\" stroke=\"#ffb6c1\" cx=\"1771.6798\" cy=\"-214\" rx=\"21.4286\" ry=\"21.4286\"/>\n<text text-anchor=\"middle\" x=\"1771.6798\" y=\"-209\" font-family=\"Arial\" font-size=\"20.00\" fill=\"#000000\">S</text>\n</g>\n<!-- 6&#45;&gt;6&#45;S -->\n<g id=\"edge46\" class=\"edge\">\n<title>6&#45;&gt;6&#45;S</title>\n<path fill=\"none\" stroke=\"#ff0000\" stroke-width=\"2\" d=\"M1660.2323,-238.1459C1666.4854,-236.7502 1672.8839,-235.3297 1678.931,-234 1699.5073,-229.4756 1722.6741,-224.48 1740.7069,-220.6132\"/>\n<polygon fill=\"#ff0000\" stroke=\"#ff0000\" stroke-width=\"2\" points=\"1741.6274,-223.9956 1750.6728,-218.4791 1740.1615,-217.1507 1741.6274,-223.9956\"/>\n</g>\n<!-- 6&#45;W -->\n<g id=\"node26\" class=\"node\">\n<title>6&#45;W</title>\n<ellipse fill=\"#ffb6c1\" stroke=\"#ffb6c1\" cx=\"1771.6798\" cy=\"-279\" rx=\"25\" ry=\"25\"/>\n<text text-anchor=\"middle\" x=\"1771.6798\" y=\"-274\" font-family=\"Arial\" font-size=\"20.00\" fill=\"#000000\">W</text>\n</g>\n<!-- 6&#45;&gt;6&#45;W -->\n<g id=\"edge49\" class=\"edge\">\n<title>6&#45;&gt;6&#45;W</title>\n<path fill=\"none\" stroke=\"#ff0000\" stroke-width=\"2\" d=\"M1658.7208,-260.4456C1665.3969,-262.5142 1672.325,-264.4678 1678.931,-266 1697.688,-270.3506 1718.9385,-273.4579 1736.3618,-275.5413\"/>\n<polygon fill=\"#ff0000\" stroke=\"#ff0000\" stroke-width=\"2\" points=\"1736.3286,-279.0598 1746.6591,-276.7081 1737.1168,-272.1044 1736.3286,-279.0598\"/>\n</g>\n<!-- 3&#45;W&#45;&gt;2 -->\n<g id=\"edge20\" class=\"edge\">\n<title>3&#45;W&#45;&gt;2</title>\n<path fill=\"none\" stroke=\"#0000ff\" stroke-dasharray=\"5,2\" d=\"M2186.9316,-129C2225.6587,-129 2301.3524,-129 2351.7907,-129\"/>\n<polygon fill=\"#0000ff\" stroke=\"#0000ff\" points=\"2351.8354,-132.5001 2361.8354,-129 2351.8354,-125.5001 2351.8354,-132.5001\"/>\n<text text-anchor=\"middle\" x=\"2274.426\" y=\"-134.2\" font-family=\"Arial\" font-size=\"16.00\" fill=\"#000000\">p = 0.8</text>\n</g>\n<!-- 3&#45;W&#45;&gt;3 -->\n<g id=\"edge21\" class=\"edge\">\n<title>3&#45;W&#45;&gt;3</title>\n<path fill=\"none\" stroke=\"#0000ff\" stroke-dasharray=\"5,2\" d=\"M2137.8302,-135.0817C2118.2004,-140.7463 2090.4924,-150.5153 2069.4285,-165 2059.6811,-171.7029 2050.4332,-180.3524 2042.3028,-189.1122\"/>\n<polygon fill=\"#0000ff\" stroke=\"#0000ff\" points=\"2039.4993,-186.9975 2035.461,-196.7925 2044.7261,-191.6537 2039.4993,-186.9975\"/>\n<text text-anchor=\"middle\" x=\"2094.4285\" y=\"-170.2\" font-family=\"Arial\" font-size=\"16.00\" fill=\"#000000\">p = 0.2</text>\n</g>\n<!-- 4&#45;N&#45;&gt;4 -->\n<g id=\"edge24\" class=\"edge\">\n<title>4&#45;N&#45;&gt;4</title>\n<path fill=\"none\" stroke=\"#0000ff\" stroke-dasharray=\"5,2\" d=\"M463.6814,-399.0707C443.2588,-394.5362 412.2634,-387.6543 386.0746,-381.8395\"/>\n<polygon fill=\"#0000ff\" stroke=\"#0000ff\" points=\"386.8259,-378.4212 376.3049,-379.6704 385.3085,-385.2548 386.8259,-378.4212\"/>\n<text text-anchor=\"middle\" x=\"420.2548\" y=\"-399.2\" font-family=\"Arial\" font-size=\"16.00\" fill=\"#000000\">p = 0.2</text>\n</g>\n<!-- 7 -->\n<g id=\"node15\" class=\"node\">\n<title>7</title>\n<ellipse fill=\"#85ff75\" stroke=\"#85ff75\" cx=\"634.5097\" cy=\"-417\" rx=\"36\" ry=\"36\"/>\n<ellipse fill=\"none\" stroke=\"#85ff75\" cx=\"634.5097\" cy=\"-417\" rx=\"40\" ry=\"40\"/>\n<text text-anchor=\"middle\" x=\"634.5097\" y=\"-410.8\" font-family=\"Arial\" font-size=\"24.00\" fill=\"#000000\">7</text>\n</g>\n<!-- 4&#45;N&#45;&gt;7 -->\n<g id=\"edge23\" class=\"edge\">\n<title>4&#45;N&#45;&gt;7</title>\n<path fill=\"none\" stroke=\"#0000ff\" stroke-dasharray=\"5,2\" d=\"M508.4556,-405.9744C528.6006,-407.7365 558.8161,-410.3793 584.6144,-412.6358\"/>\n<polygon fill=\"#0000ff\" stroke=\"#0000ff\" points=\"584.3537,-416.1263 594.6207,-413.511 584.9637,-409.1529 584.3537,-416.1263\"/>\n<text text-anchor=\"middle\" x=\"551.5097\" y=\"-416.2\" font-family=\"Arial\" font-size=\"16.00\" fill=\"#000000\">p = 0.8</text>\n</g>\n<!-- 7&#45;E -->\n<g id=\"node27\" class=\"node\">\n<title>7&#45;E</title>\n<ellipse fill=\"#ffb6c1\" stroke=\"#ffb6c1\" cx=\"781.7229\" cy=\"-433\" rx=\"21.4286\" ry=\"21.4286\"/>\n<text text-anchor=\"middle\" x=\"781.7229\" y=\"-428\" font-family=\"Arial\" font-size=\"20.00\" fill=\"#000000\">E</text>\n</g>\n<!-- 7&#45;&gt;7&#45;E -->\n<g id=\"edge52\" class=\"edge\">\n<title>7&#45;&gt;7&#45;E</title>\n<path fill=\"none\" stroke=\"#ff0000\" stroke-width=\"2\" d=\"M666.8199,-440.6646C674.8357,-445.33 683.6722,-449.5401 692.5097,-452 713.918,-457.959 720.8505,-456.9709 742.5097,-452 746.3806,-451.1116 750.313,-449.7885 754.119,-448.2464\"/>\n<polygon fill=\"#ff0000\" stroke=\"#ff0000\" stroke-width=\"2\" points=\"755.5756,-451.4289 763.2118,-444.0846 752.6623,-445.0639 755.5756,-451.4289\"/>\n</g>\n<!-- 7&#45;S -->\n<g id=\"node28\" class=\"node\">\n<title>7&#45;S</title>\n<ellipse fill=\"#ffb6c1\" stroke=\"#ffb6c1\" cx=\"781.7229\" cy=\"-367\" rx=\"21.4286\" ry=\"21.4286\"/>\n<text text-anchor=\"middle\" x=\"781.7229\" y=\"-362\" font-family=\"Arial\" font-size=\"20.00\" fill=\"#000000\">S</text>\n</g>\n<!-- 7&#45;&gt;7&#45;S -->\n<g id=\"edge55\" class=\"edge\">\n<title>7&#45;&gt;7&#45;S</title>\n<path fill=\"none\" stroke=\"#ff0000\" stroke-width=\"2\" d=\"M673.5258,-407.5338C694.2924,-402.0638 720.0996,-394.5726 742.5097,-386 746.2191,-384.581 750.0563,-382.945 753.8128,-381.2405\"/>\n<polygon fill=\"#ff0000\" stroke=\"#ff0000\" stroke-width=\"2\" points=\"755.3298,-384.3948 762.8657,-376.9476 752.3305,-378.0699 755.3298,-384.3948\"/>\n</g>\n<!-- 4&#45;E&#45;&gt;4 -->\n<g id=\"edge27\" class=\"edge\">\n<title>4&#45;E&#45;&gt;4</title>\n<path fill=\"none\" stroke=\"#0000ff\" stroke-dasharray=\"5,2\" d=\"M465.3578,-270.221C445.9822,-265.9876 416.7706,-262.8614 395.2548,-275 376.5391,-285.5589 363.1813,-304.8538 354.0399,-323.3907\"/>\n<polygon fill=\"#0000ff\" stroke=\"#0000ff\" points=\"350.7678,-322.1285 349.7621,-332.6755 357.1255,-325.0577 350.7678,-322.1285\"/>\n<text text-anchor=\"middle\" x=\"420.2548\" y=\"-280.2\" font-family=\"Arial\" font-size=\"16.00\" fill=\"#000000\">p = 0.2</text>\n</g>\n<!-- 4&#45;E&#45;&gt;5 -->\n<g id=\"edge26\" class=\"edge\">\n<title>4&#45;E&#45;&gt;5</title>\n<path fill=\"none\" stroke=\"#0000ff\" stroke-dasharray=\"5,2\" d=\"M493.883,-256.3111C512.1288,-214.9883 561.0008,-123 634.5097,-123 634.5097,-123 634.5097,-123 1703.931,-123 1817.0236,-123 1874.5875,-91.9196 1953.4285,-173 1986.4361,-206.9452 1936.5804,-245.9471 1971.4285,-278 1999.9346,-304.2197 2567.806,-336.8914 2742.0357,-346.3326\"/>\n<polygon fill=\"#0000ff\" stroke=\"#0000ff\" points=\"2742.0385,-349.8377 2752.2126,-346.8818 2742.4158,-342.8479 2742.0385,-349.8377\"/>\n<text text-anchor=\"middle\" x=\"1493.431\" y=\"-128.2\" font-family=\"Arial\" font-size=\"16.00\" fill=\"#000000\">p = 0.8 &#160;reward =10</text>\n</g>\n<!-- 4&#45;S&#45;&gt;1 -->\n<g id=\"edge29\" class=\"edge\">\n<title>4&#45;S&#45;&gt;1</title>\n<path fill=\"none\" stroke=\"#0000ff\" stroke-dasharray=\"5,2\" d=\"M467.4771,-548.6853C460.7179,-552.0417 452.8559,-555.3104 445.2548,-557 423.562,-561.8219 415.817,-565.4275 395.2548,-557 241.5534,-494.0046 118.7,-328.8517 66.7847,-250.0444\"/>\n<polygon fill=\"#0000ff\" stroke=\"#0000ff\" points=\"69.4949,-247.7927 61.1007,-241.3283 63.6315,-251.6164 69.4949,-247.7927\"/>\n<text text-anchor=\"middle\" x=\"254.2548\" y=\"-490.2\" font-family=\"Arial\" font-size=\"16.00\" fill=\"#000000\">p = 0.8</text>\n</g>\n<!-- 4&#45;S&#45;&gt;4 -->\n<g id=\"edge30\" class=\"edge\">\n<title>4&#45;S&#45;&gt;4</title>\n<path fill=\"none\" stroke=\"#0000ff\" stroke-dasharray=\"5,2\" d=\"M464.3221,-538.1447C444.1967,-537.1527 414.4621,-532.6506 395.2548,-516 367.341,-491.8018 352.7107,-452.2864 345.1313,-420.6136\"/>\n<polygon fill=\"#0000ff\" stroke=\"#0000ff\" points=\"348.4994,-419.6359 342.9103,-410.6352 341.6666,-421.1567 348.4994,-419.6359\"/>\n<text text-anchor=\"middle\" x=\"420.2548\" y=\"-540.2\" font-family=\"Arial\" font-size=\"16.00\" fill=\"#000000\">p = 0.2</text>\n</g>\n<!-- 5&#45;N&#45;&gt;5 -->\n<g id=\"edge33\" class=\"edge\">\n<title>5&#45;N&#45;&gt;5</title>\n<path fill=\"none\" stroke=\"#0000ff\" stroke-dasharray=\"5,2\" d=\"M2927.7061,-379.0412C2920.1996,-371.9254 2910.6084,-364.3146 2900.4234,-360 2882.4864,-352.4014 2861.4281,-349.1455 2842.6929,-347.9643\"/>\n<polygon fill=\"#0000ff\" stroke=\"#0000ff\" points=\"2842.7057,-344.4614 2832.5581,-347.5071 2842.3902,-351.4543 2842.7057,-344.4614\"/>\n<text text-anchor=\"middle\" x=\"2875.4234\" y=\"-365.2\" font-family=\"Arial\" font-size=\"16.00\" fill=\"#000000\">p = 0.2</text>\n</g>\n<!-- 8 -->\n<g id=\"node19\" class=\"node\">\n<title>8</title>\n<ellipse fill=\"#85ff75\" stroke=\"#85ff75\" cx=\"928.9361\" cy=\"-377\" rx=\"36\" ry=\"36\"/>\n<ellipse fill=\"none\" stroke=\"#85ff75\" cx=\"928.9361\" cy=\"-377\" rx=\"40\" ry=\"40\"/>\n<text text-anchor=\"middle\" x=\"928.9361\" y=\"-370.8\" font-family=\"Arial\" font-size=\"24.00\" fill=\"#000000\">8</text>\n</g>\n<!-- 5&#45;N&#45;&gt;8 -->\n<g id=\"edge32\" class=\"edge\">\n<title>5&#45;N&#45;&gt;8</title>\n<path fill=\"none\" stroke=\"#0000ff\" stroke-dasharray=\"5,2\" d=\"M2922.1254,-404.8135C2893.3652,-416.0391 2839.9265,-434 2792.4234,-434 1313.4335,-434 1313.4335,-434 1313.4335,-434 1126.8226,-434 1044.7343,-408.7331 986.9361,-396 983.5213,-395.2477 980.0231,-394.3737 976.5198,-393.4217\"/>\n<polygon fill=\"#0000ff\" stroke=\"#0000ff\" points=\"977.2773,-389.9972 966.6979,-390.5692 975.3249,-396.7194 977.2773,-389.9972\"/>\n<text text-anchor=\"middle\" x=\"1883.9285\" y=\"-439.2\" font-family=\"Arial\" font-size=\"16.00\" fill=\"#000000\">p = 0.8</text>\n</g>\n<!-- 8&#45;E -->\n<g id=\"node29\" class=\"node\">\n<title>8&#45;E</title>\n<ellipse fill=\"#ffb6c1\" stroke=\"#ffb6c1\" cx=\"1079.6848\" cy=\"-292\" rx=\"21.4286\" ry=\"21.4286\"/>\n<text text-anchor=\"middle\" x=\"1079.6848\" y=\"-287\" font-family=\"Arial\" font-size=\"20.00\" fill=\"#000000\">E</text>\n</g>\n<!-- 8&#45;&gt;8&#45;E -->\n<g id=\"edge58\" class=\"edge\">\n<title>8&#45;&gt;8&#45;E</title>\n<path fill=\"none\" stroke=\"#ff0000\" stroke-width=\"2\" d=\"M963.8998,-357.2856C990.7393,-342.1521 1027.2843,-321.5461 1052.0869,-307.5611\"/>\n<polygon fill=\"#ff0000\" stroke=\"#ff0000\" stroke-width=\"2\" points=\"1053.9814,-310.511 1060.9731,-302.5506 1050.5433,-304.4135 1053.9814,-310.511\"/>\n</g>\n<!-- 8&#45;S -->\n<g id=\"node30\" class=\"node\">\n<title>8&#45;S</title>\n<ellipse fill=\"#ffb6c1\" stroke=\"#ffb6c1\" cx=\"1079.6848\" cy=\"-374\" rx=\"21.4286\" ry=\"21.4286\"/>\n<text text-anchor=\"middle\" x=\"1079.6848\" y=\"-369\" font-family=\"Arial\" font-size=\"20.00\" fill=\"#000000\">S</text>\n</g>\n<!-- 8&#45;&gt;8&#45;S -->\n<g id=\"edge61\" class=\"edge\">\n<title>8&#45;&gt;8&#45;S</title>\n<path fill=\"none\" stroke=\"#ff0000\" stroke-width=\"2\" d=\"M966.573,-362.7725C973.2661,-360.7909 980.2394,-359.0689 986.9361,-358 1008.8805,-354.4972 1015.0692,-354.0419 1036.9361,-358 1041.4441,-358.816 1046.0963,-360.0794 1050.5974,-361.5466\"/>\n<polygon fill=\"#ff0000\" stroke=\"#ff0000\" stroke-width=\"2\" points=\"1049.5014,-364.8721 1060.0956,-364.9893 1051.8868,-358.2911 1049.5014,-364.8721\"/>\n</g>\n<!-- 8&#45;W -->\n<g id=\"node31\" class=\"node\">\n<title>8&#45;W</title>\n<ellipse fill=\"#ffb6c1\" stroke=\"#ffb6c1\" cx=\"1079.6848\" cy=\"-476\" rx=\"25\" ry=\"25\"/>\n<text text-anchor=\"middle\" x=\"1079.6848\" y=\"-471\" font-family=\"Arial\" font-size=\"20.00\" fill=\"#000000\">W</text>\n</g>\n<!-- 8&#45;&gt;8&#45;W -->\n<g id=\"edge64\" class=\"edge\">\n<title>8&#45;&gt;8&#45;W</title>\n<path fill=\"none\" stroke=\"#ff0000\" stroke-width=\"2\" d=\"M945.2814,-413.8235C954.9042,-431.2063 968.7829,-450.5958 986.9361,-462 1003.96,-472.6948 1026.1346,-476.3303 1044.5329,-477.2281\"/>\n<polygon fill=\"#ff0000\" stroke=\"#ff0000\" stroke-width=\"2\" points=\"1044.5022,-480.7283 1054.5845,-477.4729 1044.6728,-473.7303 1044.5022,-480.7283\"/>\n</g>\n<!-- 5&#45;E&#45;&gt;5 -->\n<g id=\"edge36\" class=\"edge\">\n<title>5&#45;E&#45;&gt;5</title>\n<path fill=\"none\" stroke=\"#0000ff\" stroke-dasharray=\"5,2\" d=\"M2934.0516,-47.4211C2910.5352,-97.4963 2847.3489,-232.0433 2813.8901,-303.2895\"/>\n<polygon fill=\"#0000ff\" stroke=\"#0000ff\" points=\"2810.6523,-301.9504 2809.5695,-312.4897 2816.9884,-304.926 2810.6523,-301.9504\"/>\n<text text-anchor=\"middle\" x=\"2875.4234\" y=\"-223.2\" font-family=\"Arial\" font-size=\"16.00\" fill=\"#000000\">p = 0.2</text>\n</g>\n<!-- 5&#45;E&#45;&gt;6 -->\n<g id=\"edge35\" class=\"edge\">\n<title>5&#45;E&#45;&gt;6</title>\n<path fill=\"none\" stroke=\"#0000ff\" stroke-dasharray=\"5,2\" d=\"M2922.38,-22.3271C2893.4687,-14.9511 2839.38,-3 2792.4234,-3 2484.926,-3 2484.926,-3 2484.926,-3 2183.0861,-3 2101.1088,-16.5451 1814.4285,-111 1750.0502,-132.2112 1732.3397,-139.2628 1678.931,-181 1669.2592,-188.5582 1659.9371,-197.8859 1651.7004,-207.1239\"/>\n<polygon fill=\"#0000ff\" stroke=\"#0000ff\" points=\"1648.9397,-204.9657 1645.053,-214.8219 1654.2378,-209.5407 1648.9397,-204.9657\"/>\n<text text-anchor=\"middle\" x=\"2274.426\" y=\"-19.2\" font-family=\"Arial\" font-size=\"16.00\" fill=\"#000000\">p = 0.8</text>\n</g>\n<!-- 5&#45;S&#45;&gt;2 -->\n<g id=\"edge38\" class=\"edge\">\n<title>5&#45;S&#45;&gt;2</title>\n<path fill=\"none\" stroke=\"#0000ff\" stroke-dasharray=\"5,2\" d=\"M2926.7183,-283.2849C2877.6039,-243.355 2726.2132,-127.5134 2577.4234,-88 2533.3349,-76.2916 2482.5436,-91.2169 2446.9835,-106.2373\"/>\n<polygon fill=\"#0000ff\" stroke=\"#0000ff\" points=\"2445.126,-103.2303 2437.3759,-110.4543 2447.9394,-109.64 2445.126,-103.2303\"/>\n<text text-anchor=\"middle\" x=\"2664.9234\" y=\"-158.2\" font-family=\"Arial\" font-size=\"16.00\" fill=\"#000000\">p = 0.8</text>\n</g>\n<!-- 5&#45;S&#45;&gt;5 -->\n<g id=\"edge39\" class=\"edge\">\n<title>5&#45;S&#45;&gt;5</title>\n<path fill=\"none\" stroke=\"#0000ff\" stroke-dasharray=\"5,2\" d=\"M2922.4582,-291.7231C2903.1029,-287.8415 2873.7685,-284.6912 2850.4234,-294 2841.046,-297.7393 2832.3143,-303.795 2824.6187,-310.5486\"/>\n<polygon fill=\"#0000ff\" stroke=\"#0000ff\" points=\"2822.1512,-308.0647 2817.2829,-317.4749 2826.9569,-313.1545 2822.1512,-308.0647\"/>\n<text text-anchor=\"middle\" x=\"2875.4234\" y=\"-299.2\" font-family=\"Arial\" font-size=\"16.00\" fill=\"#000000\">p = 0.2</text>\n</g>\n<!-- 5&#45;W&#45;&gt;4 -->\n<g id=\"edge41\" class=\"edge\">\n<title>5&#45;W&#45;&gt;4</title>\n<path fill=\"none\" stroke=\"#0000ff\" stroke-dasharray=\"5,2\" d=\"M2920.1033,-501.3367C2890.8919,-512.2976 2838.7748,-529 2792.4234,-529 845.9361,-529 845.9361,-529 845.9361,-529 670.9051,-529 632.3024,-481.3735 463.2548,-436 432.8294,-427.8336 423.2991,-430.3498 395.2548,-416 388.6247,-412.6075 381.9992,-408.4189 375.7218,-403.9745\"/>\n<polygon fill=\"#0000ff\" stroke=\"#0000ff\" points=\"377.5258,-400.9548 367.4096,-397.8062 373.3543,-406.5761 377.5258,-400.9548\"/>\n<text text-anchor=\"middle\" x=\"1493.431\" y=\"-534.2\" font-family=\"Arial\" font-size=\"16.00\" fill=\"#000000\">p = 0.8</text>\n</g>\n<!-- 5&#45;W&#45;&gt;5 -->\n<g id=\"edge42\" class=\"edge\">\n<title>5&#45;W&#45;&gt;5</title>\n<path fill=\"none\" stroke=\"#0000ff\" stroke-dasharray=\"5,2\" d=\"M2919.7251,-483.3711C2899.5926,-475.0891 2870.6962,-461.0303 2850.4234,-442 2836.1424,-428.5941 2823.9684,-410.9327 2814.5161,-394.6054\"/>\n<polygon fill=\"#0000ff\" stroke=\"#0000ff\" points=\"2817.4793,-392.7329 2809.5487,-385.7075 2811.3672,-396.1451 2817.4793,-392.7329\"/>\n<text text-anchor=\"middle\" x=\"2875.4234\" y=\"-479.2\" font-family=\"Arial\" font-size=\"16.00\" fill=\"#000000\">p = 0.2</text>\n</g>\n<!-- 6&#45;N&#45;&gt;6 -->\n<g id=\"edge45\" class=\"edge\">\n<title>6&#45;N&#45;&gt;6</title>\n<path fill=\"none\" stroke=\"#0000ff\" stroke-dasharray=\"5,2\" d=\"M1749.1782,-340.6039C1729.3908,-336.8079 1700.4681,-329.2283 1678.931,-315 1668.1025,-307.8462 1658.1585,-298.1083 1649.6769,-288.2384\"/>\n<polygon fill=\"#0000ff\" stroke=\"#0000ff\" points=\"1652.2476,-285.8535 1643.1994,-280.3415 1646.8353,-290.2929 1652.2476,-285.8535\"/>\n<text text-anchor=\"middle\" x=\"1703.931\" y=\"-341.2\" font-family=\"Arial\" font-size=\"16.00\" fill=\"#000000\">p = 0.2</text>\n</g>\n<!-- 9 -->\n<g id=\"node24\" class=\"node\">\n<title>9</title>\n<ellipse fill=\"#85ff75\" stroke=\"#85ff75\" cx=\"1230.4335\" cy=\"-292\" rx=\"36\" ry=\"36\"/>\n<ellipse fill=\"none\" stroke=\"#85ff75\" cx=\"1230.4335\" cy=\"-292\" rx=\"40\" ry=\"40\"/>\n<text text-anchor=\"middle\" x=\"1230.4335\" y=\"-285.8\" font-family=\"Arial\" font-size=\"24.00\" fill=\"#000000\">9</text>\n</g>\n<!-- 6&#45;N&#45;&gt;9 -->\n<g id=\"edge44\" class=\"edge\">\n<title>6&#45;N&#45;&gt;9</title>\n<path fill=\"none\" stroke=\"#0000ff\" stroke-dasharray=\"5,2\" d=\"M1750.217,-351.8776C1743.4965,-353.9762 1735.9901,-355.9504 1728.931,-357 1706.9505,-360.2683 1701.1369,-357.8517 1678.931,-357 1504.9931,-350.3284 1454.2122,-380.0693 1288.4335,-327 1282.9084,-325.2313 1277.359,-322.8447 1271.9999,-320.144\"/>\n<polygon fill=\"#0000ff\" stroke=\"#0000ff\" points=\"1273.6553,-317.0602 1263.1984,-315.356 1270.3102,-323.2092 1273.6553,-317.0602\"/>\n<text text-anchor=\"middle\" x=\"1493.431\" y=\"-365.2\" font-family=\"Arial\" font-size=\"16.00\" fill=\"#000000\">p = 0.8</text>\n</g>\n<!-- 9&#45;S -->\n<g id=\"node32\" class=\"node\">\n<title>9&#45;S</title>\n<ellipse fill=\"#ffb6c1\" stroke=\"#ffb6c1\" cx=\"1381.1823\" cy=\"-295\" rx=\"21.4286\" ry=\"21.4286\"/>\n<text text-anchor=\"middle\" x=\"1381.1823\" y=\"-290\" font-family=\"Arial\" font-size=\"20.00\" fill=\"#000000\">S</text>\n</g>\n<!-- 9&#45;&gt;9&#45;S -->\n<g id=\"edge67\" class=\"edge\">\n<title>9&#45;&gt;9&#45;S</title>\n<path fill=\"none\" stroke=\"#ff0000\" stroke-width=\"2\" d=\"M1270.4357,-292.7961C1295.1344,-293.2876 1326.3866,-293.9095 1349.3893,-294.3673\"/>\n<polygon fill=\"#ff0000\" stroke=\"#ff0000\" stroke-width=\"2\" points=\"1349.5711,-297.8715 1359.6388,-294.5713 1349.7104,-290.8729 1349.5711,-297.8715\"/>\n</g>\n<!-- 9&#45;W -->\n<g id=\"node33\" class=\"node\">\n<title>9&#45;W</title>\n<ellipse fill=\"#ffb6c1\" stroke=\"#ffb6c1\" cx=\"1381.1823\" cy=\"-231\" rx=\"25\" ry=\"25\"/>\n<text text-anchor=\"middle\" x=\"1381.1823\" y=\"-226\" font-family=\"Arial\" font-size=\"20.00\" fill=\"#000000\">W</text>\n</g>\n<!-- 9&#45;&gt;9&#45;W -->\n<g id=\"edge70\" class=\"edge\">\n<title>9&#45;&gt;9&#45;W</title>\n<path fill=\"none\" stroke=\"#ff0000\" stroke-width=\"2\" d=\"M1268.637,-279.548C1289.5146,-272.4091 1315.6804,-262.9139 1338.4335,-253 1342.3074,-251.3121 1346.3208,-249.4315 1350.2672,-247.5003\"/>\n<polygon fill=\"#ff0000\" stroke=\"#ff0000\" stroke-width=\"2\" points=\"1351.9019,-250.5958 1359.2564,-242.9694 1348.7512,-244.345 1351.9019,-250.5958\"/>\n</g>\n<!-- 6&#45;S&#45;&gt;3 -->\n<g id=\"edge47\" class=\"edge\">\n<title>6&#45;S&#45;&gt;3</title>\n<path fill=\"none\" stroke=\"#0000ff\" stroke-dasharray=\"5,2\" d=\"M1792.9559,-215.3311C1830.4517,-217.6771 1909.2426,-222.6067 1961.2382,-225.8598\"/>\n<polygon fill=\"#0000ff\" stroke=\"#0000ff\" points=\"1961.0608,-229.3555 1971.2598,-226.4868 1961.4979,-222.3691 1961.0608,-229.3555\"/>\n<text text-anchor=\"middle\" x=\"1883.9285\" y=\"-230.2\" font-family=\"Arial\" font-size=\"16.00\" fill=\"#000000\">p = 0.8</text>\n</g>\n<!-- 6&#45;S&#45;&gt;6 -->\n<g id=\"edge48\" class=\"edge\">\n<title>6&#45;S&#45;&gt;6</title>\n<path fill=\"none\" stroke=\"#0000ff\" stroke-dasharray=\"5,2\" d=\"M1751.6157,-206.299C1732.4676,-200.126 1703.0474,-193.7416 1678.931,-202 1671.5553,-204.5257 1664.3928,-208.4139 1657.7627,-212.869\"/>\n<polygon fill=\"#0000ff\" stroke=\"#0000ff\" points=\"1655.6997,-210.0416 1649.6734,-218.7557 1659.8185,-215.7016 1655.6997,-210.0416\"/>\n<text text-anchor=\"middle\" x=\"1703.931\" y=\"-207.2\" font-family=\"Arial\" font-size=\"16.00\" fill=\"#000000\">p = 0.2</text>\n</g>\n<!-- 6&#45;W&#45;&gt;5 -->\n<g id=\"edge50\" class=\"edge\">\n<title>6&#45;W&#45;&gt;5</title>\n<path fill=\"none\" stroke=\"#0000ff\" stroke-dasharray=\"5,2\" d=\"M1793.4214,-290.875C1834.6521,-312.25 1927.593,-355 2011.4285,-355 2011.4285,-355 2011.4285,-355 2552.6747,-355 2618.0356,-355 2693.3883,-352.7439 2741.9013,-350.9985\"/>\n<polygon fill=\"#0000ff\" stroke=\"#0000ff\" points=\"2742.2671,-354.4876 2752.1322,-350.6237 2742.0107,-347.4923 2742.2671,-354.4876\"/>\n<text text-anchor=\"middle\" x=\"2274.426\" y=\"-360.2\" font-family=\"Arial\" font-size=\"16.00\" fill=\"#000000\">p = 0.8 &#160;reward =10</text>\n</g>\n<!-- 6&#45;W&#45;&gt;6 -->\n<g id=\"edge51\" class=\"edge\">\n<title>6&#45;W&#45;&gt;6</title>\n<path fill=\"none\" stroke=\"#0000ff\" stroke-dasharray=\"5,2\" d=\"M1754.711,-260.5549C1747.4809,-254.0082 1738.506,-247.4197 1728.931,-244 1710.5241,-237.426 1689.2081,-236.7008 1670.401,-238.1523\"/>\n<polygon fill=\"#0000ff\" stroke=\"#0000ff\" points=\"1669.851,-234.6896 1660.2452,-239.1592 1670.5418,-241.6554 1669.851,-234.6896\"/>\n<text text-anchor=\"middle\" x=\"1703.931\" y=\"-249.2\" font-family=\"Arial\" font-size=\"16.00\" fill=\"#000000\">p = 0.2</text>\n</g>\n<!-- 7&#45;E&#45;&gt;7 -->\n<g id=\"edge54\" class=\"edge\">\n<title>7&#45;E&#45;&gt;7</title>\n<path fill=\"none\" stroke=\"#0000ff\" stroke-dasharray=\"5,2\" d=\"M760.4973,-430.6931C740.6786,-428.5391 710.3455,-425.2423 684.4091,-422.4234\"/>\n<polygon fill=\"#0000ff\" stroke=\"#0000ff\" points=\"684.6673,-418.9309 674.3477,-421.3298 683.9109,-425.8899 684.6673,-418.9309\"/>\n<text text-anchor=\"middle\" x=\"717.5097\" y=\"-433.2\" font-family=\"Arial\" font-size=\"16.00\" fill=\"#000000\">p = 0.2</text>\n</g>\n<!-- 7&#45;E&#45;&gt;8 -->\n<g id=\"edge53\" class=\"edge\">\n<title>7&#45;E&#45;&gt;8</title>\n<path fill=\"none\" stroke=\"#0000ff\" stroke-dasharray=\"5,2\" d=\"M801.5767,-425.4476C821.987,-417.6835 854.5215,-405.3074 881.5978,-395.0075\"/>\n<polygon fill=\"#0000ff\" stroke=\"#0000ff\" points=\"883.1916,-398.146 891.2938,-391.3192 880.7027,-391.6034 883.1916,-398.146\"/>\n<text text-anchor=\"middle\" x=\"845.9361\" y=\"-422.2\" font-family=\"Arial\" font-size=\"16.00\" fill=\"#000000\">p = 0.8</text>\n</g>\n<!-- 7&#45;S&#45;&gt;4 -->\n<g id=\"edge56\" class=\"edge\">\n<title>7&#45;S&#45;&gt;4</title>\n<path fill=\"none\" stroke=\"#0000ff\" stroke-dasharray=\"5,2\" d=\"M761.6353,-359.6024C755.5746,-357.7125 748.8467,-355.9479 742.5097,-355 720.532,-351.7124 714.7263,-354.5 692.5097,-355 583.604,-357.4512 456.0614,-364.1241 387.3061,-368.0349\"/>\n<polygon fill=\"#0000ff\" stroke=\"#0000ff\" points=\"386.9761,-364.5479 377.1928,-368.6143 387.3767,-371.5365 386.9761,-364.5479\"/>\n<text text-anchor=\"middle\" x=\"551.5097\" y=\"-366.2\" font-family=\"Arial\" font-size=\"16.00\" fill=\"#000000\">p = 0.8</text>\n</g>\n<!-- 7&#45;S&#45;&gt;7 -->\n<g id=\"edge57\" class=\"edge\">\n<title>7&#45;S&#45;&gt;7</title>\n<path fill=\"none\" stroke=\"#0000ff\" stroke-dasharray=\"5,2\" d=\"M761.1166,-361.8385C742.5235,-358.2051 714.7586,-355.3656 692.5097,-364 683.638,-367.4429 675.2943,-372.9455 667.8496,-379.1295\"/>\n<polygon fill=\"#0000ff\" stroke=\"#0000ff\" points=\"665.2497,-376.7597 660.1417,-386.0419 669.9232,-381.9711 665.2497,-376.7597\"/>\n<text text-anchor=\"middle\" x=\"717.5097\" y=\"-369.2\" font-family=\"Arial\" font-size=\"16.00\" fill=\"#000000\">p = 0.2</text>\n</g>\n<!-- 8&#45;E&#45;&gt;8 -->\n<g id=\"edge60\" class=\"edge\">\n<title>8&#45;E&#45;&gt;8</title>\n<path fill=\"none\" stroke=\"#0000ff\" stroke-dasharray=\"5,2\" d=\"M1058.7842,-287.9266C1039.0305,-285.1773 1009.1879,-283.9522 986.9361,-296 972.0734,-304.0471 960.1064,-317.753 950.99,-331.625\"/>\n<polygon fill=\"#0000ff\" stroke=\"#0000ff\" points=\"947.9506,-329.8857 945.6817,-340.2347 953.9092,-333.5594 947.9506,-329.8857\"/>\n<text text-anchor=\"middle\" x=\"1011.9361\" y=\"-301.2\" font-family=\"Arial\" font-size=\"16.00\" fill=\"#000000\">p = 0.2</text>\n</g>\n<!-- 8&#45;E&#45;&gt;9 -->\n<g id=\"edge59\" class=\"edge\">\n<title>8&#45;E&#45;&gt;9</title>\n<path fill=\"none\" stroke=\"#0000ff\" stroke-dasharray=\"5,2\" d=\"M1100.9637,-292C1121.4741,-292 1153.2793,-292 1180.2327,-292\"/>\n<polygon fill=\"#0000ff\" stroke=\"#0000ff\" points=\"1180.2917,-295.5001 1190.2916,-292 1180.2916,-288.5001 1180.2917,-295.5001\"/>\n<text text-anchor=\"middle\" x=\"1147.4335\" y=\"-297.2\" font-family=\"Arial\" font-size=\"16.00\" fill=\"#000000\">p = 0.8</text>\n</g>\n<!-- 8&#45;S&#45;&gt;5 -->\n<g id=\"edge62\" class=\"edge\">\n<title>8&#45;S&#45;&gt;5</title>\n<path fill=\"none\" stroke=\"#0000ff\" stroke-dasharray=\"5,2\" d=\"M1100.5176,-378.9921C1129.4759,-385.4831 1183.619,-396 1230.4335,-396 1230.4335,-396 1230.4335,-396 1703.931,-396 1753.0491,-396 1765.3138,-394.5691 1814.4285,-394 1901.9793,-392.9855 1923.8718,-393 2011.4285,-393 2011.4285,-393 2011.4285,-393 2552.6747,-393 2634.2743,-393 2654.8175,-384.9273 2734.4234,-367 2737.7647,-366.2476 2741.1918,-365.3962 2744.6293,-364.4833\"/>\n<polygon fill=\"#0000ff\" stroke=\"#0000ff\" points=\"2745.5972,-367.8469 2754.2815,-361.7779 2743.7079,-361.1067 2745.5972,-367.8469\"/>\n<text text-anchor=\"middle\" x=\"1883.9285\" y=\"-399.2\" font-family=\"Arial\" font-size=\"16.00\" fill=\"#000000\">p = 0.8 &#160;reward =10</text>\n</g>\n<!-- 8&#45;S&#45;&gt;8 -->\n<g id=\"edge63\" class=\"edge\">\n<title>8&#45;S&#45;&gt;8</title>\n<path fill=\"none\" stroke=\"#0000ff\" stroke-dasharray=\"5,2\" d=\"M1058.1413,-374.4287C1037.5792,-374.8379 1005.8404,-375.4696 978.9663,-376.0044\"/>\n<polygon fill=\"#0000ff\" stroke=\"#0000ff\" points=\"978.8665,-372.5056 968.9382,-376.2039 979.0059,-379.5042 978.8665,-372.5056\"/>\n<text text-anchor=\"middle\" x=\"1011.9361\" y=\"-381.2\" font-family=\"Arial\" font-size=\"16.00\" fill=\"#000000\">p = 0.2</text>\n</g>\n<!-- 8&#45;W&#45;&gt;7 -->\n<g id=\"edge65\" class=\"edge\">\n<title>8&#45;W&#45;&gt;7</title>\n<path fill=\"none\" stroke=\"#0000ff\" stroke-dasharray=\"5,2\" d=\"M1055.3539,-480.6849C1049.3561,-481.6458 1042.9327,-482.5123 1036.9361,-483 1014.787,-484.8014 1009.1511,-483.5655 986.9361,-483 855.9526,-479.6656 813.8908,-517.3396 692.5097,-468 684.2066,-464.6249 676.2853,-459.5353 669.1123,-453.8566\"/>\n<polygon fill=\"#0000ff\" stroke=\"#0000ff\" points=\"670.9376,-450.8133 661.0578,-446.9872 666.3952,-456.1394 670.9376,-450.8133\"/>\n<text text-anchor=\"middle\" x=\"845.9361\" y=\"-498.2\" font-family=\"Arial\" font-size=\"16.00\" fill=\"#000000\">p = 0.8</text>\n</g>\n<!-- 8&#45;W&#45;&gt;8 -->\n<g id=\"edge66\" class=\"edge\">\n<title>8&#45;W&#45;&gt;8</title>\n<path fill=\"none\" stroke=\"#0000ff\" stroke-dasharray=\"5,2\" d=\"M1061.5692,-458.4061C1054.321,-452.0149 1045.6347,-445.1146 1036.9361,-440 1016.4433,-427.9509 1007.7289,-432.5236 986.9361,-421 980.5519,-417.4618 974.0965,-413.2808 967.927,-408.9271\"/>\n<polygon fill=\"#0000ff\" stroke=\"#0000ff\" points=\"969.8622,-406.0063 959.7246,-402.9274 965.7295,-411.6562 969.8622,-406.0063\"/>\n<text text-anchor=\"middle\" x=\"1011.9361\" y=\"-445.2\" font-family=\"Arial\" font-size=\"16.00\" fill=\"#000000\">p = 0.2</text>\n</g>\n<!-- 9&#45;S&#45;&gt;6 -->\n<g id=\"edge68\" class=\"edge\">\n<title>9&#45;S&#45;&gt;6</title>\n<path fill=\"none\" stroke=\"#0000ff\" stroke-dasharray=\"5,2\" d=\"M1402.039,-290.8243C1439.5273,-283.3188 1519.2445,-267.3586 1571.4244,-256.9117\"/>\n<polygon fill=\"#0000ff\" stroke=\"#0000ff\" points=\"1572.3543,-260.2951 1581.4726,-254.9 1570.98,-253.4313 1572.3543,-260.2951\"/>\n<text text-anchor=\"middle\" x=\"1493.431\" y=\"-291.2\" font-family=\"Arial\" font-size=\"16.00\" fill=\"#000000\">p = 0.8</text>\n</g>\n<!-- 9&#45;S&#45;&gt;9 -->\n<g id=\"edge69\" class=\"edge\">\n<title>9&#45;S&#45;&gt;9</title>\n<path fill=\"none\" stroke=\"#0000ff\" stroke-dasharray=\"5,2\" d=\"M1360.4175,-299.6841C1353.467,-301.0381 1345.651,-302.3305 1338.4335,-303 1316.3063,-305.0526 1310.5583,-305.0795 1288.4335,-303 1285.5637,-302.7303 1282.6243,-302.387 1279.6654,-301.9897\"/>\n<polygon fill=\"#0000ff\" stroke=\"#0000ff\" points=\"1280.0151,-298.5027 1269.6024,-300.4586 1278.9621,-305.423 1280.0151,-298.5027\"/>\n<text text-anchor=\"middle\" x=\"1313.4335\" y=\"-310.2\" font-family=\"Arial\" font-size=\"16.00\" fill=\"#000000\">p = 0.2</text>\n</g>\n<!-- 9&#45;W&#45;&gt;8 -->\n<g id=\"edge71\" class=\"edge\">\n<title>9&#45;W&#45;&gt;8</title>\n<path fill=\"none\" stroke=\"#0000ff\" stroke-dasharray=\"5,2\" d=\"M1357.422,-223.7566C1351.2943,-222.2015 1344.6678,-220.7892 1338.4335,-220 1316.3873,-217.209 1310.5678,-218.0252 1288.4335,-220 1152.0784,-232.1657 1034.7145,-246.015 986.9361,-283 970.9432,-295.38 958.2835,-313.5141 948.925,-330.5599\"/>\n<polygon fill=\"#0000ff\" stroke=\"#0000ff\" points=\"945.588,-329.3894 944.0653,-339.8743 951.7941,-332.6274 945.588,-329.3894\"/>\n<text text-anchor=\"middle\" x=\"1147.4335\" y=\"-244.2\" font-family=\"Arial\" font-size=\"16.00\" fill=\"#000000\">p = 0.8</text>\n</g>\n<!-- 9&#45;W&#45;&gt;9 -->\n<g id=\"edge72\" class=\"edge\">\n<title>9&#45;W&#45;&gt;9</title>\n<path fill=\"none\" stroke=\"#0000ff\" stroke-dasharray=\"5,2\" d=\"M1356.8882,-225.924C1337.539,-223.0523 1310.1861,-221.6669 1288.4335,-231 1277.839,-235.5456 1268.2662,-243.0826 1260.0915,-251.3356\"/>\n<polygon fill=\"#0000ff\" stroke=\"#0000ff\" points=\"1257.4898,-248.994 1253.277,-258.7153 1262.6326,-253.7429 1257.4898,-248.994\"/>\n<text text-anchor=\"middle\" x=\"1313.4335\" y=\"-236.2\" font-family=\"Arial\" font-size=\"16.00\" fill=\"#000000\">p = 0.2</text>\n</g>\n</g>\n</svg>\n",
            "text/plain": [
              "<graphviz.dot.Digraph at 0x7fe6d797e250>"
            ]
          },
          "metadata": {}
        }
      ],
      "metadata": {}
    },
    {
      "cell_type": "markdown",
      "source": [
        "### **2b)** Explain why the result of 2a) does not depend on the initial value $V_0$."
      ],
      "metadata": {}
    },
    {
      "cell_type": "markdown",
      "source": [
        "## Reinforcement Learning (RL)\r\n",
        "Until now, we understood that knowing the MDP, specifically $p(s'|a,s)$ and $r(a,s,s')$ allows us to efficiently find the optimal policy using the value iteration algorithm. Reinforcement learning (RL) or decision making under uncertainity, however, arises from the question of making optimal decisions without knowing the true world model (the MDP in this case).\r\n",
        "\r\n",
        "So far we have defined the value function for a policy through $V^\\pi$. Let's now define the *action-value function*\r\n",
        "\r\n",
        "$$Q^\\pi(s,a) = \\sum_{s'} p(s'|a,s) [r(a,s,s') + \\gamma V^\\pi(s')]$$\r\n",
        "\r\n",
        "The value function and the action-value function are directly related through\r\n",
        "\r\n",
        "$$V^\\pi (s) = \\max_a Q^\\pi (s,a)$$\r\n",
        "\r\n",
        "i.e, the value of taking action $a$ in state $s$ and then following the policy $\\pi$ onwards. Similarly to the value function, the optimal $Q$-value equation is:\r\n",
        "\r\n",
        "$$Q^*(s,a) = \\sum_{s'} p(s'|a,s) [r(a,s\r\n",
        "]\\,s') + \\gamma V^*(s')]$$\r\n",
        "\r\n",
        "and the relationship between $Q^*(s,a)$ and $V^*(s)$ is simply\r\n",
        "\r\n",
        "$$V^*(s) = \\max_{a\\in A} Q^*(s,a).$$\r\n",
        "\r\n",
        "## Q-learning\r\n",
        "\r\n",
        "Q-learning is a RL-method where the agent learns about its unknown environment (i.e. the MDP is unknown) through exploration. In each time step *t* the agent chooses an action *a* based on the current state *s*, observes the reward *r* and the next state *s'*, and repeats the process in the new state. Q-learning is then a method that allows the agent to act optimally. Here we will focus on the simplest form of Q-learning algorithms, which can be applied when all states are known to the agent, and the state and action spaces are reasonably small. This simple algorithm uses a table of Q-values for each $(s,a)$ pair, which is then updated in each time step using the update rule in step $k+1$\r\n",
        "\r\n",
        "$$Q_{k+1}(s,a) = Q_k(s,a) + \\alpha \\left( r(s,a) + \\gamma \\max \\{Q_k(s',a')\\} - Q_k(s,a) \\right) $$ \r\n",
        "\r\n",
        "where $\\gamma$ is the discount factor as before, and $\\alpha$ is a pre-set learning rate. It can be shown that this algorithm converges to the optimal policy of the underlying MDP for certain values of $\\alpha$ as long as there is sufficient exploration. While a constant $\\alpha$ generally does not guarantee us to reach true convergence, we keep it constant at $\\alpha=0.1$ for this assignment.\r\n",
        "\r\n",
        "## OpenAI Gym\r\n",
        "\r\n",
        "We shall use already available simulators for different environments (worlds) using the popular OpenAI Gym library. It just implements [different types of simulators](https://gym.openai.com/) including ATARI games. Although here we will only focus on simple ones, such as the [Chain enviroment](https://gym.openai.com/envs/NChain-v0/) illustrated below.\r\n",
        "![alt text](https://chalmersuniversity.box.com/shared/static/6tthbzhpofq9gzlowhr3w8if0xvyxb2b.jpg)\r\n",
        "The figure corresponds to an MDP with 5 states $S = \\{1,2,3,4,5\\}$ and two possible actions $A=\\{a,b\\}$ in each state. The arrows indicate the resulting transitions for each state-action pair, and the numbers correspond to the rewards for each transition.\r\n"
      ],
      "metadata": {
        "id": "BQXoOa7LH7e8"
      }
    },
    {
      "cell_type": "markdown",
      "source": [
        "## Question 3\r\n",
        "You are to first familiarize with the framework using its [documentation](http://gym.openai.com/docs/), and then implement the Q-learning algorithm for the Chain enviroment (called 'NChain-v0') using default parameters. Finally print the $Q^*$ table at convergence. Convergence is **not** a constant value, rather a stable plateau with some noise. Take $\\gamma=0.95$. You can refer to the Q-learning (frozen lake) Jupyter notebook shown in class, uploaded on Canvas. Hint: start with a small learning rate.\r\n"
      ],
      "metadata": {}
    },
    {
      "cell_type": "markdown",
      "source": [
        "## Question 4"
      ],
      "metadata": {}
    },
    {
      "cell_type": "markdown",
      "source": [
        "### **4a)** Define the MDP corresponding to the Chain environment above and verify that the optimal $Q^*$ value obtained using simple Q-learning is the same as the optimal value function $V^*$ for the corresponding MDP's optimal action. Hint: compare values obtained using value iteration and Q-learning.\r\n"
      ],
      "metadata": {}
    },
    {
      "cell_type": "markdown",
      "source": [
        "### **4b)** What is the importance of exploration in RL? Explain with an example."
      ],
      "metadata": {}
    },
    {
      "cell_type": "markdown",
      "source": [
        "## Question 5"
      ],
      "metadata": {
        "id": "UWUqaN60H7e8"
      }
    },
    {
      "cell_type": "markdown",
      "source": [
        "### **5a)** Give a summary of how a decision tree works and how it extends to random forests.\r\n"
      ],
      "metadata": {}
    },
    {
      "cell_type": "markdown",
      "source": [
        "### **5b)** Explain what makes reinforcement learning different from supervised learning tasks such as regression or classification."
      ],
      "metadata": {}
    },
    {
      "cell_type": "markdown",
      "source": [
        "\n",
        "# References\n",
        "Primer/text based on the following references:\n",
        "* http://www.cse.chalmers.se/~chrdimi/downloads/book.pdf\n",
        "* https://github.com/olethrosdc/ml-society-science/blob/master/notes.pdf"
      ],
      "metadata": {
        "id": "Wev-_UhcH7e8"
      }
    }
  ]
}