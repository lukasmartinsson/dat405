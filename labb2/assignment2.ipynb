{
 "cells": [
  {
   "cell_type": "markdown",
   "source": [
    "# **Assignment 2:** Regression and classification\n",
    "\n",
    "### **Worked hours:** [insert here]\n",
    "### **Authors:** Sidner Magnéli, Lukas Martinsson "
   ],
   "metadata": {}
  },
  {
   "cell_type": "code",
   "execution_count": 207,
   "source": [
    "# clear variable cache at each run\n",
    "%reset -f \n",
    "\n",
    "# global imports and configuration\n",
    "import numpy as np\n",
    "import pandas as pd\n",
    "import seaborn as sns\n",
    "\n",
    "# set plot style\n",
    "sns.set_style(\"darkgrid\")\n",
    "\n",
    "# float output format\n",
    "pd.options.display.float_format = '{:.2f}'.format\n",
    "\n",
    "# global output line limit\n",
    "n = 5"
   ],
   "outputs": [],
   "metadata": {}
  },
  {
   "cell_type": "markdown",
   "source": [
    "\n",
    "## **Sub-task 1:** Linear regression on Hemnet data\n",
    "### The dataset associated to this assigment was downloaded from www.hemnet.se on 2020-10-18. The data contains information about selling prices of villas in Landvetter that were sold in the past 12 months\n",
    "___"
   ],
   "metadata": {}
  },
  {
   "cell_type": "code",
   "execution_count": 208,
   "source": [
    "# load data\n",
    "df_raw = pd.read_csv('./datasets/data_assignment2.csv'); df_raw.head(n)\n",
    "df_raw.head(n)"
   ],
   "outputs": [
    {
     "output_type": "execute_result",
     "data": {
      "text/html": [
       "<div>\n",
       "<style scoped>\n",
       "    .dataframe tbody tr th:only-of-type {\n",
       "        vertical-align: middle;\n",
       "    }\n",
       "\n",
       "    .dataframe tbody tr th {\n",
       "        vertical-align: top;\n",
       "    }\n",
       "\n",
       "    .dataframe thead th {\n",
       "        text-align: right;\n",
       "    }\n",
       "</style>\n",
       "<table border=\"1\" class=\"dataframe\">\n",
       "  <thead>\n",
       "    <tr style=\"text-align: right;\">\n",
       "      <th></th>\n",
       "      <th>ID</th>\n",
       "      <th>Living_area</th>\n",
       "      <th>Rooms</th>\n",
       "      <th>Land_size</th>\n",
       "      <th>Biarea</th>\n",
       "      <th>Age</th>\n",
       "      <th>Selling_price</th>\n",
       "    </tr>\n",
       "  </thead>\n",
       "  <tbody>\n",
       "    <tr>\n",
       "      <th>0</th>\n",
       "      <td>1</td>\n",
       "      <td>104</td>\n",
       "      <td>5.00</td>\n",
       "      <td>271.00</td>\n",
       "      <td>25.00</td>\n",
       "      <td>33</td>\n",
       "      <td>4600000</td>\n",
       "    </tr>\n",
       "    <tr>\n",
       "      <th>1</th>\n",
       "      <td>2</td>\n",
       "      <td>99</td>\n",
       "      <td>5.00</td>\n",
       "      <td>1506.00</td>\n",
       "      <td>6.00</td>\n",
       "      <td>88</td>\n",
       "      <td>4450000</td>\n",
       "    </tr>\n",
       "    <tr>\n",
       "      <th>2</th>\n",
       "      <td>3</td>\n",
       "      <td>133</td>\n",
       "      <td>6.00</td>\n",
       "      <td>486.00</td>\n",
       "      <td>NaN</td>\n",
       "      <td>44</td>\n",
       "      <td>4900000</td>\n",
       "    </tr>\n",
       "    <tr>\n",
       "      <th>3</th>\n",
       "      <td>4</td>\n",
       "      <td>175</td>\n",
       "      <td>7.00</td>\n",
       "      <td>728.00</td>\n",
       "      <td>NaN</td>\n",
       "      <td>14</td>\n",
       "      <td>6625000</td>\n",
       "    </tr>\n",
       "    <tr>\n",
       "      <th>4</th>\n",
       "      <td>5</td>\n",
       "      <td>118</td>\n",
       "      <td>6.00</td>\n",
       "      <td>1506.00</td>\n",
       "      <td>NaN</td>\n",
       "      <td>29</td>\n",
       "      <td>4600000</td>\n",
       "    </tr>\n",
       "  </tbody>\n",
       "</table>\n",
       "</div>"
      ],
      "text/plain": [
       "   ID  Living_area  Rooms  Land_size  Biarea  Age  Selling_price\n",
       "0   1          104   5.00     271.00   25.00   33        4600000\n",
       "1   2           99   5.00    1506.00    6.00   88        4450000\n",
       "2   3          133   6.00     486.00     NaN   44        4900000\n",
       "3   4          175   7.00     728.00     NaN   14        6625000\n",
       "4   5          118   6.00    1506.00     NaN   29        4600000"
      ]
     },
     "metadata": {},
     "execution_count": 208
    }
   ],
   "metadata": {}
  },
  {
   "cell_type": "code",
   "execution_count": 209,
   "source": [
    "# data cleaning\n",
    "\n",
    "# use included index\n",
    "df = df_raw.set_index('ID')\n",
    "\n",
    "# remove any complete NaN rows\n",
    "df.dropna(how='all', inplace=True)\n",
    "\n",
    "# remove irrelevant columns\n",
    "del df['Rooms'], df['Land_size'], df['Biarea'], df['Age']\n",
    "\n",
    "df.head(n)"
   ],
   "outputs": [
    {
     "output_type": "execute_result",
     "data": {
      "text/html": [
       "<div>\n",
       "<style scoped>\n",
       "    .dataframe tbody tr th:only-of-type {\n",
       "        vertical-align: middle;\n",
       "    }\n",
       "\n",
       "    .dataframe tbody tr th {\n",
       "        vertical-align: top;\n",
       "    }\n",
       "\n",
       "    .dataframe thead th {\n",
       "        text-align: right;\n",
       "    }\n",
       "</style>\n",
       "<table border=\"1\" class=\"dataframe\">\n",
       "  <thead>\n",
       "    <tr style=\"text-align: right;\">\n",
       "      <th></th>\n",
       "      <th>Living_area</th>\n",
       "      <th>Selling_price</th>\n",
       "    </tr>\n",
       "    <tr>\n",
       "      <th>ID</th>\n",
       "      <th></th>\n",
       "      <th></th>\n",
       "    </tr>\n",
       "  </thead>\n",
       "  <tbody>\n",
       "    <tr>\n",
       "      <th>1</th>\n",
       "      <td>104</td>\n",
       "      <td>4600000</td>\n",
       "    </tr>\n",
       "    <tr>\n",
       "      <th>2</th>\n",
       "      <td>99</td>\n",
       "      <td>4450000</td>\n",
       "    </tr>\n",
       "    <tr>\n",
       "      <th>3</th>\n",
       "      <td>133</td>\n",
       "      <td>4900000</td>\n",
       "    </tr>\n",
       "    <tr>\n",
       "      <th>4</th>\n",
       "      <td>175</td>\n",
       "      <td>6625000</td>\n",
       "    </tr>\n",
       "    <tr>\n",
       "      <th>5</th>\n",
       "      <td>118</td>\n",
       "      <td>4600000</td>\n",
       "    </tr>\n",
       "  </tbody>\n",
       "</table>\n",
       "</div>"
      ],
      "text/plain": [
       "    Living_area  Selling_price\n",
       "ID                            \n",
       "1           104        4600000\n",
       "2            99        4450000\n",
       "3           133        4900000\n",
       "4           175        6625000\n",
       "5           118        4600000"
      ]
     },
     "metadata": {},
     "execution_count": 209
    }
   ],
   "metadata": {}
  },
  {
   "cell_type": "markdown",
   "source": [
    "> ### **1.a)** Find a linear regression model that relates the living area to the selling price. If you did any data cleaning step(s), describe and explain why you did that."
   ],
   "metadata": {}
  },
  {
   "cell_type": "code",
   "execution_count": 210,
   "source": [
    "# import model\n",
    "from sklearn.linear_model import LinearRegression\n",
    "from sklearn.model_selection import train_test_split\n",
    "from sklearn.metrics import r2_score\n",
    "\n",
    "# transform input data\n",
    "X = df.loc[:, ['Living_area']].values\n",
    "y = df['Selling_price'].values\n",
    "\n",
    "# split into train / test sets \n",
    "X_train, X_test, y_train, y_test = train_test_split(X, y, test_size=0.5)\n",
    "\n",
    "# fit model\n",
    "model = LinearRegression().fit(X_train, y_train)\n",
    "\n",
    "# make predictions Y = b0 + b1X + Err\n",
    "y_pred = model.predict(X_test)\n",
    "\n",
    "print(f'Coefficient of determination: {r2_score(y_test, y_pred)}')\n",
    "\n",
    "# Plot outputs\n",
    "ax = sns.scatterplot(x=X_test.flatten(), y=y_test, color='blue', )\n",
    "sns.lineplot(x=X_test.flatten(), y=y_pred, color='orange')\n",
    "ax.set(xlabel='Living area', ylabel='selling price (million SEK)');"
   ],
   "outputs": [
    {
     "output_type": "stream",
     "name": "stdout",
     "text": [
      "Coefficient of determination: 0.18080033820915686\n"
     ]
    },
    {
     "output_type": "display_data",
     "data": {
      "image/png": "[encoded data removed]",
      "text/plain": [
       "<Figure size 432x288 with 1 Axes>"
      ]
     },
     "metadata": {}
    }
   ],
   "metadata": {}
  },
  {
   "cell_type": "code",
   "execution_count": 211,
   "source": [
    "# alternativr solution\n",
    "sns.regplot(x=\"Living_area\", y=\"Selling_price\", data=df);"
   ],
   "outputs": [
    {
     "output_type": "display_data",
     "data": {
      "image/png": "[encoded data removed]",
      "text/plain": [
       "<Figure size 432x288 with 1 Axes>"
      ]
     },
     "metadata": {}
    }
   ],
   "metadata": {}
  },
  {
   "cell_type": "markdown",
   "source": [
    "> ### **1.b)** What are the values of the slope and intercept of the regression line?"
   ],
   "metadata": {}
  },
  {
   "cell_type": "code",
   "execution_count": 212,
   "source": [
    "# Slope\n",
    "print(f'Slope: {model.coef_}')\n",
    "\n",
    "# Intercept\n",
    "print(f'Intercept: {model.intercept_}')"
   ],
   "outputs": [
    {
     "output_type": "stream",
     "name": "stdout",
     "text": [
      "Slope: [22526.16515181]\n",
      "Intercept: 1859441.568362018\n"
     ]
    }
   ],
   "metadata": {}
  },
  {
   "cell_type": "markdown",
   "source": [
    "> ### **1.c)** Use this model to predict the selling prices of houses which have living area 100 m2, 150 m2and 200 m2."
   ],
   "metadata": {}
  },
  {
   "cell_type": "code",
   "execution_count": 213,
   "source": [
    "predicted_house_prices = pd.DataFrame()\n",
    "for i in np.array([100, 150, 200]):\n",
    "  predicted_house_prices = predicted_house_prices.append({'Living_area': i, 'Predicted selling_price (SEK)': model.predict([[i]])[0]}, ignore_index=True)\n",
    "\n",
    "predicted_house_prices"
   ],
   "outputs": [
    {
     "output_type": "execute_result",
     "data": {
      "text/html": [
       "<div>\n",
       "<style scoped>\n",
       "    .dataframe tbody tr th:only-of-type {\n",
       "        vertical-align: middle;\n",
       "    }\n",
       "\n",
       "    .dataframe tbody tr th {\n",
       "        vertical-align: top;\n",
       "    }\n",
       "\n",
       "    .dataframe thead th {\n",
       "        text-align: right;\n",
       "    }\n",
       "</style>\n",
       "<table border=\"1\" class=\"dataframe\">\n",
       "  <thead>\n",
       "    <tr style=\"text-align: right;\">\n",
       "      <th></th>\n",
       "      <th>Living_area</th>\n",
       "      <th>Predicted selling_price (SEK)</th>\n",
       "    </tr>\n",
       "  </thead>\n",
       "  <tbody>\n",
       "    <tr>\n",
       "      <th>0</th>\n",
       "      <td>100.00</td>\n",
       "      <td>4112058.08</td>\n",
       "    </tr>\n",
       "    <tr>\n",
       "      <th>1</th>\n",
       "      <td>150.00</td>\n",
       "      <td>5238366.34</td>\n",
       "    </tr>\n",
       "    <tr>\n",
       "      <th>2</th>\n",
       "      <td>200.00</td>\n",
       "      <td>6364674.60</td>\n",
       "    </tr>\n",
       "  </tbody>\n",
       "</table>\n",
       "</div>"
      ],
      "text/plain": [
       "   Living_area  Predicted selling_price (SEK)\n",
       "0       100.00                     4112058.08\n",
       "1       150.00                     5238366.34\n",
       "2       200.00                     6364674.60"
      ]
     },
     "metadata": {},
     "execution_count": 213
    }
   ],
   "metadata": {}
  },
  {
   "cell_type": "markdown",
   "source": [
    "> ### **1.d)** Draw a residual plot."
   ],
   "metadata": {}
  },
  {
   "cell_type": "code",
   "execution_count": 266,
   "source": [
    "# the residuals make up the difference between the predicted and observed output values\n",
    "residuals = y_test - y_pred\n",
    "\n",
    "# we plot the residuals against the test inputs as this aligns with the plot above.\n",
    "sns.residplot(x=X_test, y=residuals)"
   ],
   "outputs": [
    {
     "output_type": "execute_result",
     "data": {
      "text/plain": [
       "<AxesSubplot:>"
      ]
     },
     "metadata": {},
     "execution_count": 266
    },
    {
     "output_type": "display_data",
     "data": {
      "image/png": "[encoded data removed]",
      "text/plain": [
       "<Figure size 432x288 with 1 Axes>"
      ]
     },
     "metadata": {}
    }
   ],
   "metadata": {}
  },
  {
   "cell_type": "markdown",
   "source": [
    "> ### **1.e)** Discuss the results, and how the model could be improved.\n",
    "\n",
    "As the graphs in section **1.a)** indicate, there's an obvious correlation, in this dataset, between a houses ***living area*** and it's ***selling price***. Whether it's the living area that affects house prices or the fact that more expensive houses tend to have larger living areas is hard to tell from only looking at these two parameters. For instance, it would also be interesting to include the ***price per square meter*** and ***location***, as these parameters might help highlight furter patterns.\n",
    "\n",
    "#### Potential model improvements\n",
    "Looking the residual plot from **1.d)** one notices the true observations are quite evenly distrubuted around the line of prediction. Yet, there are a few outliers that might either be the effect of some other parameters at play, or could just be the result of errors in the raw data. One improvment to this model could then be to discard these outliers to remove the effect of potential errors in the data. Howver, in the case that the outliers are reflecting real observations where other factors than ***living area*** are at play, removing these outliers does the opposite of improving the model. Hence, in short: *Sometimes outliers are bad data, and should be excluded, such as typos. Sometimes they are Wayne Gretzky or Michael Jordan, and should be kept.*\n",
    "\n",
    "A soultion to this dilemma is to increase a models robustness by using a regression algorithm that accounts for outliers and assings them less weight than other observations in the dataset. One such algorithm is Huber regression."
   ],
   "metadata": {}
  },
  {
   "cell_type": "markdown",
   "source": [
    "## **Sub-task 2:** Iris dataset\n",
    "### In this question, you will use the Iris dataset `from sklearn.datasets import load_iris`.\n",
    "___"
   ],
   "metadata": {}
  },
  {
   "cell_type": "markdown",
   "source": [
    "> ### **2.a)** Use a confusion matrix to evaluate the use of logistic regression to classify the iris data set."
   ],
   "metadata": {}
  },
  {
   "cell_type": "code",
   "execution_count": null,
   "source": [],
   "outputs": [],
   "metadata": {}
  }
 ],
 "metadata": {
  "orig_nbformat": 4,
  "language_info": {
   "name": "python",
   "version": "3.8.8",
   "mimetype": "text/x-python",
   "codemirror_mode": {
    "name": "ipython",
    "version": 3
   },
   "pygments_lexer": "ipython3",
   "nbconvert_exporter": "python",
   "file_extension": ".py"
  },
  "kernelspec": {
   "name": "python3",
   "display_name": "Python 3.8.8 64-bit ('base': conda)"
  },
  "interpreter": {
   "hash": "ad4bdff1320f12d81f077364a0ed0b61c72bf243b701352d6f35920f5f96452c"
  }
 },
 "nbformat": 4,
 "nbformat_minor": 2
}